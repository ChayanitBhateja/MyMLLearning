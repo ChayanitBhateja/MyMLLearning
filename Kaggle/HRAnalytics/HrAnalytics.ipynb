{
  "nbformat": 4,
  "nbformat_minor": 0,
  "metadata": {
    "colab": {
      "name": "HrAnalytics.ipynb",
      "provenance": [],
      "toc_visible": true
    },
    "kernelspec": {
      "display_name": "Python 3",
      "language": "python",
      "name": "python3"
    },
    "language_info": {
      "codemirror_mode": {
        "name": "ipython",
        "version": 3
      },
      "file_extension": ".py",
      "mimetype": "text/x-python",
      "name": "python",
      "nbconvert_exporter": "python",
      "pygments_lexer": "ipython3",
      "version": "3.8.3"
    }
  },
  "cells": [
    {
      "cell_type": "code",
      "metadata": {
        "id": "Op0CyVgQCdDt"
      },
      "source": [
        "import pandas as pd"
      ],
      "execution_count": 1,
      "outputs": []
    },
    {
      "cell_type": "code",
      "metadata": {
        "id": "lGmlwk1oCdDz"
      },
      "source": [
        "data = pd.read_csv('aug_train.csv')"
      ],
      "execution_count": 2,
      "outputs": []
    },
    {
      "cell_type": "code",
      "metadata": {
        "colab": {
          "base_uri": "https://localhost:8080/",
          "height": 224
        },
        "id": "ULLx2IqoCdD1",
        "outputId": "b77ef396-20ce-4682-e4c0-beb234ecc9da"
      },
      "source": [
        "data.head()"
      ],
      "execution_count": 3,
      "outputs": [
        {
          "output_type": "execute_result",
          "data": {
            "text/plain": [
              "   enrollee_id      city  city_development_index gender  \\\n",
              "0         8949  city_103                   0.920   Male   \n",
              "1        29725   city_40                   0.776   Male   \n",
              "2        11561   city_21                   0.624    NaN   \n",
              "3        33241  city_115                   0.789    NaN   \n",
              "4          666  city_162                   0.767   Male   \n",
              "\n",
              "       relevent_experience enrolled_university education_level  \\\n",
              "0  Has relevent experience       no_enrollment        Graduate   \n",
              "1   No relevent experience       no_enrollment        Graduate   \n",
              "2   No relevent experience    Full time course        Graduate   \n",
              "3   No relevent experience                 NaN        Graduate   \n",
              "4  Has relevent experience       no_enrollment         Masters   \n",
              "\n",
              "  major_discipline experience company_size    company_type last_new_job  \\\n",
              "0             STEM        >20          NaN             NaN            1   \n",
              "1             STEM         15        50-99         Pvt Ltd           >4   \n",
              "2             STEM          5          NaN             NaN        never   \n",
              "3  Business Degree         <1          NaN         Pvt Ltd        never   \n",
              "4             STEM        >20        50-99  Funded Startup            4   \n",
              "\n",
              "   training_hours  target  \n",
              "0              36     1.0  \n",
              "1              47     0.0  \n",
              "2              83     0.0  \n",
              "3              52     1.0  \n",
              "4               8     0.0  "
            ],
            "text/html": "<div>\n<style scoped>\n    .dataframe tbody tr th:only-of-type {\n        vertical-align: middle;\n    }\n\n    .dataframe tbody tr th {\n        vertical-align: top;\n    }\n\n    .dataframe thead th {\n        text-align: right;\n    }\n</style>\n<table border=\"1\" class=\"dataframe\">\n  <thead>\n    <tr style=\"text-align: right;\">\n      <th></th>\n      <th>enrollee_id</th>\n      <th>city</th>\n      <th>city_development_index</th>\n      <th>gender</th>\n      <th>relevent_experience</th>\n      <th>enrolled_university</th>\n      <th>education_level</th>\n      <th>major_discipline</th>\n      <th>experience</th>\n      <th>company_size</th>\n      <th>company_type</th>\n      <th>last_new_job</th>\n      <th>training_hours</th>\n      <th>target</th>\n    </tr>\n  </thead>\n  <tbody>\n    <tr>\n      <th>0</th>\n      <td>8949</td>\n      <td>city_103</td>\n      <td>0.920</td>\n      <td>Male</td>\n      <td>Has relevent experience</td>\n      <td>no_enrollment</td>\n      <td>Graduate</td>\n      <td>STEM</td>\n      <td>&gt;20</td>\n      <td>NaN</td>\n      <td>NaN</td>\n      <td>1</td>\n      <td>36</td>\n      <td>1.0</td>\n    </tr>\n    <tr>\n      <th>1</th>\n      <td>29725</td>\n      <td>city_40</td>\n      <td>0.776</td>\n      <td>Male</td>\n      <td>No relevent experience</td>\n      <td>no_enrollment</td>\n      <td>Graduate</td>\n      <td>STEM</td>\n      <td>15</td>\n      <td>50-99</td>\n      <td>Pvt Ltd</td>\n      <td>&gt;4</td>\n      <td>47</td>\n      <td>0.0</td>\n    </tr>\n    <tr>\n      <th>2</th>\n      <td>11561</td>\n      <td>city_21</td>\n      <td>0.624</td>\n      <td>NaN</td>\n      <td>No relevent experience</td>\n      <td>Full time course</td>\n      <td>Graduate</td>\n      <td>STEM</td>\n      <td>5</td>\n      <td>NaN</td>\n      <td>NaN</td>\n      <td>never</td>\n      <td>83</td>\n      <td>0.0</td>\n    </tr>\n    <tr>\n      <th>3</th>\n      <td>33241</td>\n      <td>city_115</td>\n      <td>0.789</td>\n      <td>NaN</td>\n      <td>No relevent experience</td>\n      <td>NaN</td>\n      <td>Graduate</td>\n      <td>Business Degree</td>\n      <td>&lt;1</td>\n      <td>NaN</td>\n      <td>Pvt Ltd</td>\n      <td>never</td>\n      <td>52</td>\n      <td>1.0</td>\n    </tr>\n    <tr>\n      <th>4</th>\n      <td>666</td>\n      <td>city_162</td>\n      <td>0.767</td>\n      <td>Male</td>\n      <td>Has relevent experience</td>\n      <td>no_enrollment</td>\n      <td>Masters</td>\n      <td>STEM</td>\n      <td>&gt;20</td>\n      <td>50-99</td>\n      <td>Funded Startup</td>\n      <td>4</td>\n      <td>8</td>\n      <td>0.0</td>\n    </tr>\n  </tbody>\n</table>\n</div>"
          },
          "metadata": {},
          "execution_count": 3
        }
      ]
    },
    {
      "cell_type": "code",
      "metadata": {
        "colab": {
          "base_uri": "https://localhost:8080/"
        },
        "id": "tzep7kWnCdD4",
        "outputId": "fcdc026d-9bad-48f4-942b-5929d5b4cacd"
      },
      "source": [
        "\n",
        "data.info()"
      ],
      "execution_count": 4,
      "outputs": [
        {
          "output_type": "stream",
          "name": "stdout",
          "text": [
            "<class 'pandas.core.frame.DataFrame'>\nRangeIndex: 19158 entries, 0 to 19157\nData columns (total 14 columns):\n #   Column                  Non-Null Count  Dtype  \n---  ------                  --------------  -----  \n 0   enrollee_id             19158 non-null  int64  \n 1   city                    19158 non-null  object \n 2   city_development_index  19158 non-null  float64\n 3   gender                  14650 non-null  object \n 4   relevent_experience     19158 non-null  object \n 5   enrolled_university     18772 non-null  object \n 6   education_level         18698 non-null  object \n 7   major_discipline        16345 non-null  object \n 8   experience              19093 non-null  object \n 9   company_size            13220 non-null  object \n 10  company_type            13018 non-null  object \n 11  last_new_job            18735 non-null  object \n 12  training_hours          19158 non-null  int64  \n 13  target                  19158 non-null  float64\ndtypes: float64(2), int64(2), object(10)\nmemory usage: 2.0+ MB\n"
          ]
        }
      ]
    },
    {
      "cell_type": "code",
      "metadata": {
        "colab": {
          "base_uri": "https://localhost:8080/"
        },
        "id": "ixmI-R1TCdD7",
        "outputId": "6550affe-f517-456f-daf9-444ac9ed4513"
      },
      "source": [
        "data.isna().any()"
      ],
      "execution_count": 5,
      "outputs": [
        {
          "output_type": "execute_result",
          "data": {
            "text/plain": [
              "enrollee_id               False\n",
              "city                      False\n",
              "city_development_index    False\n",
              "gender                     True\n",
              "relevent_experience       False\n",
              "enrolled_university        True\n",
              "education_level            True\n",
              "major_discipline           True\n",
              "experience                 True\n",
              "company_size               True\n",
              "company_type               True\n",
              "last_new_job               True\n",
              "training_hours            False\n",
              "target                    False\n",
              "dtype: bool"
            ]
          },
          "metadata": {},
          "execution_count": 5
        }
      ]
    },
    {
      "cell_type": "code",
      "metadata": {
        "colab": {
          "base_uri": "https://localhost:8080/"
        },
        "id": "asfSjeuUCdD9",
        "outputId": "165ca00e-df5e-496a-d9c7-e2de4044514f"
      },
      "source": [
        "data.shape"
      ],
      "execution_count": 6,
      "outputs": [
        {
          "output_type": "execute_result",
          "data": {
            "text/plain": [
              "(19158, 14)"
            ]
          },
          "metadata": {},
          "execution_count": 6
        }
      ]
    },
    {
      "cell_type": "markdown",
      "metadata": {
        "id": "cDDvcJqvCdD-"
      },
      "source": [
        "## Dealing with missing data.."
      ]
    },
    {
      "cell_type": "code",
      "metadata": {
        "colab": {
          "base_uri": "https://localhost:8080/"
        },
        "id": "WtRBqXgmCdEA",
        "outputId": "27079f17-c874-4d1b-83f7-905853358433"
      },
      "source": [
        "# Imputing gender with Mode of data..\n",
        "genderMode = data['gender'].mode()\n",
        "data.gender.fillna(genderMode[0], inplace = True)\n",
        "data.gender.isna().any()"
      ],
      "execution_count": 7,
      "outputs": [
        {
          "output_type": "execute_result",
          "data": {
            "text/plain": [
              "False"
            ]
          },
          "metadata": {},
          "execution_count": 7
        }
      ]
    },
    {
      "cell_type": "code",
      "metadata": {
        "colab": {
          "base_uri": "https://localhost:8080/"
        },
        "id": "j206XFBQCdEB",
        "outputId": "4d1f7935-daa9-4cd0-9524-695cd0f6a4a8"
      },
      "source": [
        "# Imputing enrolled University with mode as it is also a catagorical variable...\n",
        "universityStatus = data.enrolled_university.mode()\n",
        "data['enrolled_university'].fillna(universityStatus[0], inplace = True)\n",
        "data.enrolled_university.isna().any()\n"
      ],
      "execution_count": 8,
      "outputs": [
        {
          "output_type": "execute_result",
          "data": {
            "text/plain": [
              "False"
            ]
          },
          "metadata": {},
          "execution_count": 8
        }
      ]
    },
    {
      "cell_type": "code",
      "metadata": {
        "colab": {
          "base_uri": "https://localhost:8080/"
        },
        "id": "3g7gYpzsCdEF",
        "outputId": "90029929-25fa-4614-e73a-77ed33ccfac0"
      },
      "source": [
        "educationLevel = data.education_level.mode()\n",
        "data.education_level.fillna(educationLevel[0], inplace = True)\n",
        "data.education_level.isna().any()"
      ],
      "execution_count": 9,
      "outputs": [
        {
          "output_type": "execute_result",
          "data": {
            "text/plain": [
              "False"
            ]
          },
          "metadata": {},
          "execution_count": 9
        }
      ]
    },
    {
      "cell_type": "code",
      "metadata": {
        "id": "o0ge8UFeCdEH"
      },
      "source": [
        "major = data.major_discipline.mode()\n",
        "data.major_discipline.fillna(major[0], inplace = True)"
      ],
      "execution_count": 10,
      "outputs": []
    },
    {
      "cell_type": "code",
      "metadata": {
        "id": "19ujcG6FCdEI"
      },
      "source": [
        "# Imputing experience with Median as it is a discrete variable...\n",
        "data['experience'].replace({'>20':20, '<1':0}, inplace = True)\n",
        "expMedian = data.experience.median()\n",
        "expMedian\n",
        "data['experience'].fillna(expMedian, inplace = True)"
      ],
      "execution_count": 11,
      "outputs": []
    },
    {
      "cell_type": "code",
      "metadata": {
        "id": "Knaaz2NYCdEJ"
      },
      "source": [
        "sizeMode = data.company_size.mode()\n",
        "data['company_size'].fillna(sizeMode[0], inplace=True)"
      ],
      "execution_count": 12,
      "outputs": []
    },
    {
      "cell_type": "code",
      "metadata": {
        "id": "kC-uKUmPCdEN"
      },
      "source": [
        "typeMode = data.company_type.mode()\n",
        "data['company_type'].fillna(typeMode[0], inplace = True)"
      ],
      "execution_count": 13,
      "outputs": []
    },
    {
      "cell_type": "code",
      "metadata": {
        "id": "75G_FLEwCdEN"
      },
      "source": [
        "data.last_new_job.unique()\n",
        "data.replace({'>4':5, 'never':0}, inplace = True)\n",
        "lastNewMedian = data.last_new_job.median()\n",
        "data.last_new_job.fillna(lastNewMedian, inplace = True)"
      ],
      "execution_count": 14,
      "outputs": []
    },
    {
      "cell_type": "code",
      "metadata": {
        "colab": {
          "base_uri": "https://localhost:8080/"
        },
        "id": "qUOLxRLMCdEO",
        "outputId": "6f6099dc-b2a7-4dde-9f7c-df316582762c"
      },
      "source": [
        "data.isna().any()"
      ],
      "execution_count": 15,
      "outputs": [
        {
          "output_type": "execute_result",
          "data": {
            "text/plain": [
              "enrollee_id               False\n",
              "city                      False\n",
              "city_development_index    False\n",
              "gender                    False\n",
              "relevent_experience       False\n",
              "enrolled_university       False\n",
              "education_level           False\n",
              "major_discipline          False\n",
              "experience                False\n",
              "company_size              False\n",
              "company_type              False\n",
              "last_new_job              False\n",
              "training_hours            False\n",
              "target                    False\n",
              "dtype: bool"
            ]
          },
          "metadata": {},
          "execution_count": 15
        }
      ]
    },
    {
      "cell_type": "code",
      "metadata": {
        "colab": {
          "base_uri": "https://localhost:8080/"
        },
        "id": "LjNB8T-tCdEQ",
        "outputId": "652ec050-11a9-4c43-9fd7-97693783f95c"
      },
      "source": [
        "data.dtypes"
      ],
      "execution_count": 16,
      "outputs": [
        {
          "output_type": "execute_result",
          "data": {
            "text/plain": [
              "enrollee_id                 int64\n",
              "city                       object\n",
              "city_development_index    float64\n",
              "gender                     object\n",
              "relevent_experience        object\n",
              "enrolled_university        object\n",
              "education_level            object\n",
              "major_discipline           object\n",
              "experience                 object\n",
              "company_size               object\n",
              "company_type               object\n",
              "last_new_job               object\n",
              "training_hours              int64\n",
              "target                    float64\n",
              "dtype: object"
            ]
          },
          "metadata": {},
          "execution_count": 16
        }
      ]
    },
    {
      "cell_type": "code",
      "metadata": {
        "id": "B74CpYTgCdES"
      },
      "source": [
        "data.city = data.city.map(lambda city: city.strip('city_'))\n",
        "data.city = data.city.astype(int)"
      ],
      "execution_count": 17,
      "outputs": []
    },
    {
      "cell_type": "code",
      "metadata": {
        "id": "21WhoB8uCdET"
      },
      "source": [
        "from sklearn.preprocessing import LabelEncoder"
      ],
      "execution_count": 18,
      "outputs": []
    },
    {
      "cell_type": "code",
      "metadata": {
        "colab": {
          "base_uri": "https://localhost:8080/"
        },
        "id": "bsvGr7bTCdET",
        "outputId": "eb335738-17ce-4ef0-fc32-04adc2a75464"
      },
      "source": [
        "# Label Encoding Gender Column F = 0, M = 1, Other = 2\n",
        "encoder = LabelEncoder()\n",
        "data['gender'] = encoder.fit_transform(data['gender'])\n",
        "data.gender.unique()"
      ],
      "execution_count": 19,
      "outputs": [
        {
          "output_type": "execute_result",
          "data": {
            "text/plain": [
              "array([1, 0, 2])"
            ]
          },
          "metadata": {},
          "execution_count": 19
        }
      ]
    },
    {
      "cell_type": "code",
      "metadata": {
        "id": "VfD7kd8PCdEU"
      },
      "source": [
        "# Has Relevent Experience = 0, not having Relevant Experience = 1\n",
        "data['relevent_experience'] = encoder.fit_transform(data['relevent_experience'])\n"
      ],
      "execution_count": 20,
      "outputs": []
    },
    {
      "cell_type": "code",
      "metadata": {
        "id": "AZsn9ReNCdEV"
      },
      "source": [
        "# 'no_enrollment' = 2, 'Full time course' =0, 'Part time course = 1'\n",
        "data['enrolled_university'] =encoder.fit_transform(data['enrolled_university'])"
      ],
      "execution_count": 21,
      "outputs": []
    },
    {
      "cell_type": "code",
      "metadata": {
        "colab": {
          "base_uri": "https://localhost:8080/"
        },
        "id": "xpE29joACdEX",
        "outputId": "a3fb9f3d-f7b1-4e95-b168-33787ccdd8f8"
      },
      "source": [
        "# 'Graduate' = 0, 'Masters' = 2, 'High School' = 1, 'Phd' = 3, 'Primary School' = 4\n",
        "data['education_level'] = encoder.fit_transform(data['education_level'])\n",
        "data['education_level'].unique()"
      ],
      "execution_count": 22,
      "outputs": [
        {
          "output_type": "execute_result",
          "data": {
            "text/plain": [
              "array([0, 2, 1, 3, 4])"
            ]
          },
          "metadata": {},
          "execution_count": 22
        }
      ]
    },
    {
      "cell_type": "code",
      "metadata": {
        "colab": {
          "base_uri": "https://localhost:8080/"
        },
        "id": "d403_AjmCdEY",
        "outputId": "22a7b165-f9d7-452a-83a9-666d285a0526"
      },
      "source": [
        "# 'STEM' = 5, 'Business Degree' = 1, 'Arts' = 0, 'Humanities' = 2, 'No Major' = 3, 'Other' = 4\n",
        "data['major_discipline'] = encoder.fit_transform(data['major_discipline'])\n",
        "data['major_discipline'].unique()"
      ],
      "execution_count": 23,
      "outputs": [
        {
          "output_type": "execute_result",
          "data": {
            "text/plain": [
              "array([5, 1, 0, 2, 3, 4])"
            ]
          },
          "metadata": {},
          "execution_count": 23
        }
      ]
    },
    {
      "cell_type": "code",
      "metadata": {
        "id": "TOy2qdbzCdEZ"
      },
      "source": [
        "data['experience']=data['experience'].astype(int)"
      ],
      "execution_count": 24,
      "outputs": []
    },
    {
      "cell_type": "code",
      "metadata": {
        "colab": {
          "base_uri": "https://localhost:8080/"
        },
        "id": "MgGak8LoCdEa",
        "outputId": "7e661766-8971-4b2a-d900-97c564bd110d"
      },
      "source": [
        "# '50-99'=4 '<10'=7 '10000+'=3 '5000-9999'=6 '1000-4999'=2 '10/49'=0 '100-500'=1, '500-999'=5\n",
        "data['company_size'] = encoder.fit_transform(data['company_size'])\n",
        "data['company_size'].unique()"
      ],
      "execution_count": 25,
      "outputs": [
        {
          "output_type": "execute_result",
          "data": {
            "text/plain": [
              "array([4, 7, 3, 6, 2, 0, 1, 5])"
            ]
          },
          "metadata": {},
          "execution_count": 25
        }
      ]
    },
    {
      "cell_type": "code",
      "metadata": {
        "id": "COfTmiNLCdEb"
      },
      "source": [
        "data['company_type'] = encoder.fit_transform(data['company_type'])"
      ],
      "execution_count": 26,
      "outputs": []
    },
    {
      "cell_type": "code",
      "metadata": {
        "id": "plOWSRslCdEc"
      },
      "source": [
        "data['last_new_job'] = data['last_new_job'].astype(int)"
      ],
      "execution_count": 27,
      "outputs": []
    },
    {
      "cell_type": "code",
      "metadata": {
        "id": "-HwDO1olCdEc"
      },
      "source": [
        "data['target'] = data['target'].astype(int)"
      ],
      "execution_count": 28,
      "outputs": []
    },
    {
      "cell_type": "code",
      "metadata": {
        "colab": {
          "base_uri": "https://localhost:8080/"
        },
        "id": "_KZHLIz9CdEd",
        "outputId": "85e5834e-5f77-4785-d4bb-ec6c21fe3c38"
      },
      "source": [
        "data.dtypes"
      ],
      "execution_count": 29,
      "outputs": [
        {
          "output_type": "execute_result",
          "data": {
            "text/plain": [
              "enrollee_id                 int64\n",
              "city                        int64\n",
              "city_development_index    float64\n",
              "gender                      int64\n",
              "relevent_experience         int64\n",
              "enrolled_university         int64\n",
              "education_level             int64\n",
              "major_discipline            int64\n",
              "experience                  int64\n",
              "company_size                int64\n",
              "company_type                int64\n",
              "last_new_job                int64\n",
              "training_hours              int64\n",
              "target                      int64\n",
              "dtype: object"
            ]
          },
          "metadata": {},
          "execution_count": 29
        }
      ]
    },
    {
      "cell_type": "markdown",
      "metadata": {
        "id": "DYQTZ22ACdEh"
      },
      "source": [
        "# Creating the machine Learning model.."
      ]
    },
    {
      "cell_type": "code",
      "metadata": {
        "id": "KTDocXjDCdEi"
      },
      "source": [
        "features = data.drop('target', axis = 1).values\n",
        "target = data['target'].values"
      ],
      "execution_count": 30,
      "outputs": []
    },
    {
      "cell_type": "code",
      "metadata": {
        "id": "8q5noBecCdEi"
      },
      "source": [
        "from sklearn.preprocessing import OneHotEncoder\n",
        "oneHot = OneHotEncoder(sparse=False)\n",
        "oneHotData = oneHot.fit_transform(features)"
      ],
      "execution_count": 31,
      "outputs": []
    },
    {
      "cell_type": "code",
      "metadata": {
        "id": "FIwKZ3JsCdEj"
      },
      "source": [
        "from sklearn.model_selection import train_test_split\n",
        "xTrain,  xTest, yTrain, yTest = train_test_split(oneHotData,target)"
      ],
      "execution_count": 32,
      "outputs": []
    },
    {
      "cell_type": "code",
      "metadata": {
        "colab": {
          "base_uri": "https://localhost:8080/"
        },
        "id": "hig6bAsFCdEk",
        "outputId": "a0b50603-d6f7-4e10-e570-88c4e5b8d80c"
      },
      "source": [
        "from sklearn.linear_model import LogisticRegression\n",
        "model = LogisticRegression(fit_intercept=True, max_iter=500)\n",
        "model.fit(xTrain,yTrain)"
      ],
      "execution_count": 33,
      "outputs": [
        {
          "output_type": "execute_result",
          "data": {
            "text/plain": [
              "LogisticRegression(max_iter=500)"
            ]
          },
          "metadata": {},
          "execution_count": 33
        }
      ]
    },
    {
      "cell_type": "code",
      "metadata": {
        "id": "KHYUGojwCdEl"
      },
      "source": [
        "predictions = model.predict(xTest)"
      ],
      "execution_count": 34,
      "outputs": []
    },
    {
      "cell_type": "code",
      "metadata": {
        "colab": {
          "base_uri": "https://localhost:8080/"
        },
        "id": "7f8u-gepCdEm",
        "outputId": "68c800ab-1a4f-49a4-ffc5-e3d3fa48c05a"
      },
      "source": [
        "from sklearn.metrics import confusion_matrix\n",
        "confusion_matrix(predictions,yTest)"
      ],
      "execution_count": 35,
      "outputs": [
        {
          "output_type": "execute_result",
          "data": {
            "text/plain": [
              "array([[3324,  786],\n",
              "       [ 297,  383]])"
            ]
          },
          "metadata": {},
          "execution_count": 35
        }
      ]
    },
    {
      "cell_type": "code",
      "metadata": {
        "id": "2Xd-ls_aCdEo"
      },
      "source": [
        "from sklearn.metrics import accuracy_score\n",
        "accuracy_score(predictions, yTest)"
      ],
      "execution_count": 36,
      "outputs": []
    },
    {
      "cell_type": "code",
      "metadata": {
        "colab": {
          "base_uri": "https://localhost:8080/"
        },
        "id": "P4ndwE-2CdEp",
        "outputId": "61d4d064-218a-42c7-97d1-5f54e41c0c38"
      },
      "source": [
        "from sklearn.naive_bayes import MultinomialNB\n",
        "nbModel = MultinomialNB()\n",
        "nbModel.fit(xTrain,yTrain)\n",
        "predictions = nbModel.predict(xTest)\n",
        "accuracy_score(predictions, yTest)"
      ],
      "execution_count": null,
      "outputs": [
        {
          "output_type": "execute_result",
          "data": {
            "text/plain": [
              "0.7594989561586639"
            ]
          },
          "metadata": {
            "tags": []
          },
          "execution_count": 37
        }
      ]
    },
    {
      "cell_type": "code",
      "metadata": {
        "colab": {
          "base_uri": "https://localhost:8080/"
        },
        "id": "ECnEWJJdCdEq",
        "outputId": "85906561-882e-48c6-a48b-86c0fe509a04"
      },
      "source": [
        "from sklearn.tree import DecisionTreeClassifier\n",
        "treeModel = DecisionTreeClassifier()\n",
        "treeModel.fit(xTrain,yTrain)\n",
        "predictions = treeModel.predict(xTest)\n",
        "accuracy_score(predictions,yTest)"
      ],
      "execution_count": null,
      "outputs": [
        {
          "output_type": "execute_result",
          "data": {
            "text/plain": [
              "0.7398747390396659"
            ]
          },
          "metadata": {
            "tags": []
          },
          "execution_count": 38
        }
      ]
    },
    {
      "cell_type": "code",
      "metadata": {
        "colab": {
          "base_uri": "https://localhost:8080/"
        },
        "id": "09oW_WrhCdEr",
        "outputId": "971d65b8-f928-485b-e701-d74feef4fb96"
      },
      "source": [
        "print(model.score(xTrain,yTrain))\n",
        "print(model.score(xTest,yTest))"
      ],
      "execution_count": null,
      "outputs": [
        {
          "output_type": "stream",
          "text": [
            "0.8537722717149221\n",
            "0.7638830897703549\n"
          ],
          "name": "stdout"
        }
      ]
    },
    {
      "cell_type": "code",
      "metadata": {
        "colab": {
          "background_save": true,
          "base_uri": "https://localhost:8080/"
        },
        "id": "TvimsjfSCdEz",
        "outputId": "b5fa76f5-32f0-4d40-cc39-b4830483c679"
      },
      "source": [
        "from sklearn.neighbors import KNeighborsClassifier\n",
        "knn = KNeighborsClassifier(n_neighbors=6)\n",
        "knn.fit(xTrain,yTrain)\n",
        "predictions = knn.predict(xTest)\n",
        "print(knn.score(xTest,yTest))\n",
        "print(knn.score(xTest,yTest))"
      ],
      "execution_count": null,
      "outputs": [
        {
          "output_type": "stream",
          "text": [
            "0.7536534446764092\n",
            "0.7536534446764092\n"
          ],
          "name": "stdout"
        }
      ]
    },
    {
      "cell_type": "code",
      "metadata": {
        "colab": {
          "background_save": true
        },
        "id": "bAeHDkcdCdFL",
        "outputId": "d3012a75-c658-43a8-882d-bf6f07f89754"
      },
      "source": [
        "treeModel.fit(xTrain, yTrain)\n",
        "predictions = treeModel.predict(xTest)\n",
        "print(accuracy_score(predictions,yTest))\n",
        "print(treeModel.score(xTrain,yTrain))\n",
        "print(treeModel.score(xTest,yTest))"
      ],
      "execution_count": null,
      "outputs": [
        {
          "output_type": "stream",
          "text": [
            "0.7438413361169103\n",
            "1.0\n",
            "0.7438413361169103\n"
          ],
          "name": "stdout"
        }
      ]
    },
    {
      "cell_type": "code",
      "metadata": {
        "id": "lKn7E6nXSI8N"
      },
      "source": [
        "from sklearn.ensemble import RandomForestClassifier\n",
        "forest = RandomForestClassifier(n_jobs=1,)\n",
        "forest.fit(xTrain,yTrain)\n",
        "predictions = forest.predict(xTest)\n",
        "print(accuracy_score(predictions, yTest))\n",
        "print(forest.score(xTrain,yTrain))\n",
        "print(forest.score(xTest,yTest))"
      ],
      "execution_count": 37,
      "outputs": []
    },
    {
      "cell_type": "code",
      "metadata": {
        "id": "39PdVfDJ3saH"
      },
      "source": [
        "\n",
        "n_estimators = [500,800,1000,1500,2000]\n",
        "max_depth = [10,20,30,40,50,60,70,80]\n",
        "max_depth.append(None)\n",
        "min_samples_split = [2,5,10,15,20]\n",
        "min_samples_leaf = [1,2,5,10,15,20]"
      ],
      "execution_count": 38,
      "outputs": []
    },
    {
      "cell_type": "code",
      "metadata": {
        "id": "Q9f31iey3wsu"
      },
      "source": [
        "grid_params = {'n_estimators':n_estimators,\n",
        "'max_depth':max_depth,\n",
        "'min_samples_leaf':min_samples_leaf,\n",
        "'min_samples_split':min_samples_split,}\n"
      ],
      "execution_count": 39,
      "outputs": []
    },
    {
      "cell_type": "code",
      "metadata": {
        "id": "4volqZ1F3zY-",
        "colab": {
          "base_uri": "https://localhost:8080/"
        },
        "outputId": "758834bc-0e15-48d4-aa97-f541f05124d4"
      },
      "source": [
        "from sklearn.model_selection import RandomizedSearchCV\n",
        "search = RandomizedSearchCV(estimator=forest, param_distributions=grid_params, n_iter=500,cv=5, verbose=2, n_jobs=1)\n",
        "search.fit(xTrain,yTrain)"
      ],
      "execution_count": null,
      "outputs": [
        {
          "output_type": "stream",
          "text": [
            "[CV]  n_estimators=2000, min_samples_split=20, min_samples_leaf=10, max_depth=60, total= 4.8min\n",
            "[CV] n_estimators=2000, min_samples_split=20, min_samples_leaf=10, max_depth=60 \n",
            "[CV]  n_estimators=2000, min_samples_split=20, min_samples_leaf=10, max_depth=60, total= 4.6min\n",
            "[CV] n_estimators=2000, min_samples_split=15, min_samples_leaf=2, max_depth=10 \n",
            "[CV]  n_estimators=2000, min_samples_split=15, min_samples_leaf=2, max_depth=10, total= 6.2min\n",
            "[CV] n_estimators=2000, min_samples_split=15, min_samples_leaf=2, max_depth=10 \n",
            "[CV]  n_estimators=2000, min_samples_split=15, min_samples_leaf=2, max_depth=10, total= 6.3min\n",
            "[CV] n_estimators=2000, min_samples_split=15, min_samples_leaf=2, max_depth=10 \n",
            "[CV]  n_estimators=2000, min_samples_split=15, min_samples_leaf=2, max_depth=10, total= 6.3min\n",
            "[CV] n_estimators=2000, min_samples_split=15, min_samples_leaf=2, max_depth=10 \n",
            "[CV]  n_estimators=2000, min_samples_split=15, min_samples_leaf=2, max_depth=10, total= 5.4min\n",
            "[CV] n_estimators=2000, min_samples_split=15, min_samples_leaf=2, max_depth=10 \n",
            "[CV]  n_estimators=2000, min_samples_split=15, min_samples_leaf=2, max_depth=10, total= 5.5min\n",
            "[CV] n_estimators=800, min_samples_split=10, min_samples_leaf=2, max_depth=30 \n",
            "[CV]  n_estimators=800, min_samples_split=10, min_samples_leaf=2, max_depth=30, total= 4.1min\n",
            "[CV] n_estimators=800, min_samples_split=10, min_samples_leaf=2, max_depth=30 \n",
            "[CV]  n_estimators=800, min_samples_split=10, min_samples_leaf=2, max_depth=30, total= 3.4min\n",
            "[CV] n_estimators=800, min_samples_split=10, min_samples_leaf=2, max_depth=30 \n",
            "[CV]  n_estimators=800, min_samples_split=10, min_samples_leaf=2, max_depth=30, total= 2.8min\n",
            "[CV] n_estimators=800, min_samples_split=10, min_samples_leaf=2, max_depth=30 \n",
            "[CV]  n_estimators=800, min_samples_split=10, min_samples_leaf=2, max_depth=30, total= 3.7min\n",
            "[CV] n_estimators=800, min_samples_split=10, min_samples_leaf=2, max_depth=30 \n",
            "[CV]  n_estimators=800, min_samples_split=10, min_samples_leaf=2, max_depth=30, total= 3.6min\n",
            "[CV] n_estimators=800, min_samples_split=15, min_samples_leaf=20, max_depth=70 \n",
            "[CV]  n_estimators=800, min_samples_split=15, min_samples_leaf=20, max_depth=70, total=  56.7s\n",
            "[CV] n_estimators=800, min_samples_split=15, min_samples_leaf=20, max_depth=70 \n",
            "[CV]  n_estimators=800, min_samples_split=15, min_samples_leaf=20, max_depth=70, total=  56.6s\n",
            "[CV] n_estimators=800, min_samples_split=15, min_samples_leaf=20, max_depth=70 \n",
            "[CV]  n_estimators=800, min_samples_split=15, min_samples_leaf=20, max_depth=70, total=  53.6s\n",
            "[CV] n_estimators=800, min_samples_split=15, min_samples_leaf=20, max_depth=70 \n",
            "[CV]  n_estimators=800, min_samples_split=15, min_samples_leaf=20, max_depth=70, total= 1.4min\n",
            "[CV] n_estimators=800, min_samples_split=15, min_samples_leaf=20, max_depth=70 \n",
            "[CV]  n_estimators=800, min_samples_split=15, min_samples_leaf=20, max_depth=70, total= 1.4min\n",
            "[CV] n_estimators=500, min_samples_split=20, min_samples_leaf=10, max_depth=50 \n",
            "[CV]  n_estimators=500, min_samples_split=20, min_samples_leaf=10, max_depth=50, total=  49.9s\n",
            "[CV] n_estimators=500, min_samples_split=20, min_samples_leaf=10, max_depth=50 \n",
            "[CV]  n_estimators=500, min_samples_split=20, min_samples_leaf=10, max_depth=50, total=  52.2s\n",
            "[CV] n_estimators=500, min_samples_split=20, min_samples_leaf=10, max_depth=50 \n",
            "[CV]  n_estimators=500, min_samples_split=20, min_samples_leaf=10, max_depth=50, total=  48.7s\n",
            "[CV] n_estimators=500, min_samples_split=20, min_samples_leaf=10, max_depth=50 \n",
            "[CV]  n_estimators=500, min_samples_split=20, min_samples_leaf=10, max_depth=50, total= 1.1min\n",
            "[CV] n_estimators=500, min_samples_split=20, min_samples_leaf=10, max_depth=50 \n",
            "[CV]  n_estimators=500, min_samples_split=20, min_samples_leaf=10, max_depth=50, total= 1.1min\n",
            "[CV] n_estimators=1500, min_samples_split=10, min_samples_leaf=1, max_depth=70 \n",
            "[CV]  n_estimators=1500, min_samples_split=10, min_samples_leaf=1, max_depth=70, total=16.1min\n",
            "[CV] n_estimators=1500, min_samples_split=10, min_samples_leaf=1, max_depth=70 \n",
            "[CV]  n_estimators=1500, min_samples_split=10, min_samples_leaf=1, max_depth=70, total=18.2min\n",
            "[CV] n_estimators=1500, min_samples_split=10, min_samples_leaf=1, max_depth=70 \n",
            "[CV]  n_estimators=1500, min_samples_split=10, min_samples_leaf=1, max_depth=70, total=17.1min\n",
            "[CV] n_estimators=1500, min_samples_split=10, min_samples_leaf=1, max_depth=70 \n",
            "[CV]  n_estimators=1500, min_samples_split=10, min_samples_leaf=1, max_depth=70, total=27.1min\n",
            "[CV] n_estimators=1500, min_samples_split=10, min_samples_leaf=1, max_depth=70 \n",
            "[CV]  n_estimators=1500, min_samples_split=10, min_samples_leaf=1, max_depth=70, total=26.9min\n",
            "[CV] n_estimators=2000, min_samples_split=10, min_samples_leaf=1, max_depth=70 \n",
            "[CV]  n_estimators=2000, min_samples_split=10, min_samples_leaf=1, max_depth=70, total=40.7min\n",
            "[CV] n_estimators=2000, min_samples_split=10, min_samples_leaf=1, max_depth=70 \n",
            "[CV]  n_estimators=2000, min_samples_split=10, min_samples_leaf=1, max_depth=70, total=38.7min\n",
            "[CV] n_estimators=2000, min_samples_split=10, min_samples_leaf=1, max_depth=70 \n",
            "[CV]  n_estimators=2000, min_samples_split=10, min_samples_leaf=1, max_depth=70, total=26.3min\n",
            "[CV] n_estimators=2000, min_samples_split=10, min_samples_leaf=1, max_depth=70 \n",
            "[CV]  n_estimators=2000, min_samples_split=10, min_samples_leaf=1, max_depth=70, total=26.6min\n",
            "[CV] n_estimators=2000, min_samples_split=10, min_samples_leaf=1, max_depth=70 \n",
            "[CV]  n_estimators=2000, min_samples_split=10, min_samples_leaf=1, max_depth=70, total=26.3min\n",
            "[CV] n_estimators=500, min_samples_split=15, min_samples_leaf=15, max_depth=20 \n",
            "[CV]  n_estimators=500, min_samples_split=15, min_samples_leaf=15, max_depth=20, total= 1.7min\n",
            "[CV] n_estimators=500, min_samples_split=15, min_samples_leaf=15, max_depth=20 \n",
            "[CV]  n_estimators=500, min_samples_split=15, min_samples_leaf=15, max_depth=20, total= 1.6min\n",
            "[CV] n_estimators=500, min_samples_split=15, min_samples_leaf=15, max_depth=20 \n",
            "[CV]  n_estimators=500, min_samples_split=15, min_samples_leaf=15, max_depth=20, total= 1.6min\n",
            "[CV] n_estimators=500, min_samples_split=15, min_samples_leaf=15, max_depth=20 \n",
            "[CV]  n_estimators=500, min_samples_split=15, min_samples_leaf=15, max_depth=20, total= 1.6min\n",
            "[CV] n_estimators=500, min_samples_split=15, min_samples_leaf=15, max_depth=20 \n",
            "[CV]  n_estimators=500, min_samples_split=15, min_samples_leaf=15, max_depth=20, total= 1.6min\n",
            "[CV] n_estimators=2000, min_samples_split=15, min_samples_leaf=20, max_depth=20 \n",
            "[CV]  n_estimators=2000, min_samples_split=15, min_samples_leaf=20, max_depth=20, total= 5.7min\n",
            "[CV] n_estimators=2000, min_samples_split=15, min_samples_leaf=20, max_depth=20 \n",
            "[CV]  n_estimators=2000, min_samples_split=15, min_samples_leaf=20, max_depth=20, total= 5.3min\n",
            "[CV] n_estimators=2000, min_samples_split=15, min_samples_leaf=20, max_depth=20 \n",
            "[CV]  n_estimators=2000, min_samples_split=15, min_samples_leaf=20, max_depth=20, total= 4.9min\n",
            "[CV] n_estimators=2000, min_samples_split=15, min_samples_leaf=20, max_depth=20 \n",
            "[CV]  n_estimators=2000, min_samples_split=15, min_samples_leaf=20, max_depth=20, total= 5.1min\n",
            "[CV] n_estimators=2000, min_samples_split=15, min_samples_leaf=20, max_depth=20 \n",
            "[CV]  n_estimators=2000, min_samples_split=15, min_samples_leaf=20, max_depth=20, total= 5.0min\n",
            "[CV] n_estimators=1000, min_samples_split=20, min_samples_leaf=1, max_depth=20 \n",
            "[CV]  n_estimators=1000, min_samples_split=20, min_samples_leaf=1, max_depth=20, total= 8.4min\n",
            "[CV] n_estimators=1000, min_samples_split=20, min_samples_leaf=1, max_depth=20 \n",
            "[CV]  n_estimators=1000, min_samples_split=20, min_samples_leaf=1, max_depth=20, total= 8.5min\n",
            "[CV] n_estimators=1000, min_samples_split=20, min_samples_leaf=1, max_depth=20 \n",
            "[CV]  n_estimators=1000, min_samples_split=20, min_samples_leaf=1, max_depth=20, total= 6.8min\n",
            "[CV] n_estimators=1000, min_samples_split=20, min_samples_leaf=1, max_depth=20 \n"
          ],
          "name": "stdout"
        }
      ]
    },
    {
      "cell_type": "code",
      "metadata": {
        "id": "eDAP7g0nIj57"
      },
      "source": [
        "print(search.best_estimator_)\n",
        "print(search.best_params_)\n",
        "print(search.best_score_)\n",
        "print(search.cv_results_())\n",
        "print(search.decision_function)\n",
        "print(search.decision_function)"
      ],
      "execution_count": null,
      "outputs": []
    },
    {
      "cell_type": "code",
      "metadata": {
        "id": "rqMjaGfOD-_C"
      },
      "source": [],
      "execution_count": null,
      "outputs": []
    }
  ]
}