{
  "nbformat": 4,
  "nbformat_minor": 0,
  "metadata": {
    "colab": {
      "name": "CNN CLassification CIFAR10.ipynb",
      "provenance": [],
      "authorship_tag": "ABX9TyO6TRt202+VbktZ1EPSaadE",
      "include_colab_link": true
    },
    "kernelspec": {
      "name": "python3",
      "display_name": "Python 3"
    },
    "language_info": {
      "name": "python"
    }
  },
  "cells": [
    {
      "cell_type": "markdown",
      "metadata": {
        "id": "view-in-github",
        "colab_type": "text"
      },
      "source": [
        "<a href=\"https://colab.research.google.com/github/ChayanitBhateja/MyMLLearning/blob/master/CNN_CLassification_CIFAR10.ipynb\" target=\"_parent\"><img src=\"https://colab.research.google.com/assets/colab-badge.svg\" alt=\"Open In Colab\"/></a>"
      ]
    },
    {
      "cell_type": "code",
      "metadata": {
        "id": "SRk-zQLyqRrj"
      },
      "source": [
        "import numpy as np\n",
        "import tensorflow as tf\n",
        "from tensorflow.keras.layers import Input, Conv2D, Dense, Dropout, Flatten, GlobalMaxPooling2D\n",
        "from tensorflow.keras.models import Model "
      ],
      "execution_count": 1,
      "outputs": []
    },
    {
      "cell_type": "code",
      "metadata": {
        "colab": {
          "base_uri": "https://localhost:8080/"
        },
        "id": "cLhlOkPJqqa3",
        "outputId": "7ae76537-f89e-44fe-98f7-dae37d42e4f0"
      },
      "source": [
        "cifar10 = tf.keras.datasets.cifar10\n",
        "\n",
        "(x_train, y_train), (x_test, y_test) = cifar10.load_data()\n",
        "\n",
        "print(x_train.shape)\n",
        "print(y_train.shape)"
      ],
      "execution_count": 2,
      "outputs": [
        {
          "output_type": "stream",
          "name": "stdout",
          "text": [
            "Downloading data from https://www.cs.toronto.edu/~kriz/cifar-10-python.tar.gz\n",
            "170500096/170498071 [==============================] - 4s 0us/step\n",
            "170508288/170498071 [==============================] - 4s 0us/step\n",
            "(50000, 32, 32, 3)\n",
            "(50000, 1)\n"
          ]
        }
      ]
    },
    {
      "cell_type": "code",
      "metadata": {
        "id": "SatKzaWDq85l"
      },
      "source": [
        "# Standardizing x_train as 255 is the maximum value in arrays\n",
        "# dividing will change the values to 0-1\n",
        "x_train, x_test = x_train / 255, x_test / 255"
      ],
      "execution_count": 4,
      "outputs": []
    },
    {
      "cell_type": "code",
      "metadata": {
        "id": "564GskHZrHot"
      },
      "source": [
        "# Target is 2d...so to convert it into 1d lets flatten it..\n",
        "y_train, y_test = y_train.flatten(), y_test.flatten()"
      ],
      "execution_count": 8,
      "outputs": []
    },
    {
      "cell_type": "code",
      "metadata": {
        "colab": {
          "base_uri": "https://localhost:8080/"
        },
        "id": "9OkPkU8Yrciu",
        "outputId": "a39487b9-23bd-497f-8821-4aca97cd09ba"
      },
      "source": [
        "# Classes of target variable...\n",
        "K = len(set(y_train))\n",
        "print(K)"
      ],
      "execution_count": 10,
      "outputs": [
        {
          "output_type": "stream",
          "name": "stdout",
          "text": [
            "10\n"
          ]
        }
      ]
    },
    {
      "cell_type": "code",
      "metadata": {
        "id": "D1ycQEm7rxOY"
      },
      "source": [
        "# Creating CNN\n",
        "i = Input(shape=x_train[0].shape)\n",
        "x = Conv2D(32,(3,3), strides=2,activation='relu')(i)\n",
        "x = Conv2D(64,(3,3),strides=2, activation='relu')(x)\n",
        "x = Conv2D(128,(3,3), strides = 2, activation='relu')(x)\n",
        "x = Flatten()(x)\n",
        "x = Dropout(0.5)(x)\n",
        "x = Dense(1024, activation = 'relu')(x)\n",
        "x = Dropout(0.2)(x)\n",
        "x = Dense(K, activation = 'softmax')(x)\n",
        "\n",
        "model = Model(i, x)"
      ],
      "execution_count": 11,
      "outputs": []
    },
    {
      "cell_type": "code",
      "metadata": {
        "colab": {
          "base_uri": "https://localhost:8080/"
        },
        "id": "X_k674q8tAfy",
        "outputId": "70628b14-d3bc-4e96-966b-c6a35a42e2c2"
      },
      "source": [
        "model.compile(optimizer = 'adam', loss = 'sparse_categorical_crossentropy', metrics=['accuracy'])\n",
        "r = model.fit(x_train, y_train, epochs=15, validation_data=(x_test,y_test))"
      ],
      "execution_count": 12,
      "outputs": [
        {
          "output_type": "stream",
          "name": "stdout",
          "text": [
            "Epoch 1/15\n",
            "1563/1563 [==============================] - 46s 29ms/step - loss: 1.5562 - accuracy: 0.4304 - val_loss: 1.2634 - val_accuracy: 0.5454\n",
            "Epoch 2/15\n",
            "1563/1563 [==============================] - 45s 29ms/step - loss: 1.2692 - accuracy: 0.5437 - val_loss: 1.1518 - val_accuracy: 0.5906\n",
            "Epoch 3/15\n",
            "1563/1563 [==============================] - 45s 29ms/step - loss: 1.1448 - accuracy: 0.5900 - val_loss: 1.0611 - val_accuracy: 0.6164\n",
            "Epoch 4/15\n",
            "1563/1563 [==============================] - 45s 29ms/step - loss: 1.0607 - accuracy: 0.6210 - val_loss: 1.0127 - val_accuracy: 0.6383\n",
            "Epoch 5/15\n",
            "1563/1563 [==============================] - 45s 29ms/step - loss: 0.9926 - accuracy: 0.6463 - val_loss: 0.9673 - val_accuracy: 0.6598\n",
            "Epoch 6/15\n",
            "1563/1563 [==============================] - 45s 29ms/step - loss: 0.9311 - accuracy: 0.6690 - val_loss: 0.8872 - val_accuracy: 0.6917\n",
            "Epoch 7/15\n",
            "1563/1563 [==============================] - 45s 29ms/step - loss: 0.8758 - accuracy: 0.6895 - val_loss: 0.9484 - val_accuracy: 0.6682\n",
            "Epoch 8/15\n",
            "1563/1563 [==============================] - 45s 29ms/step - loss: 0.8319 - accuracy: 0.7066 - val_loss: 0.8772 - val_accuracy: 0.6942\n",
            "Epoch 9/15\n",
            "1563/1563 [==============================] - 45s 29ms/step - loss: 0.7980 - accuracy: 0.7167 - val_loss: 0.9022 - val_accuracy: 0.6853\n",
            "Epoch 10/15\n",
            "1563/1563 [==============================] - 45s 29ms/step - loss: 0.7599 - accuracy: 0.7311 - val_loss: 0.8324 - val_accuracy: 0.7122\n",
            "Epoch 11/15\n",
            "1563/1563 [==============================] - 45s 29ms/step - loss: 0.7288 - accuracy: 0.7412 - val_loss: 0.8299 - val_accuracy: 0.7102\n",
            "Epoch 12/15\n",
            "1563/1563 [==============================] - 45s 29ms/step - loss: 0.7021 - accuracy: 0.7508 - val_loss: 0.8108 - val_accuracy: 0.7183\n",
            "Epoch 13/15\n",
            "1563/1563 [==============================] - 45s 29ms/step - loss: 0.6769 - accuracy: 0.7598 - val_loss: 0.8113 - val_accuracy: 0.7212\n",
            "Epoch 14/15\n",
            "1563/1563 [==============================] - 45s 29ms/step - loss: 0.6558 - accuracy: 0.7690 - val_loss: 0.8072 - val_accuracy: 0.7183\n",
            "Epoch 15/15\n",
            "1563/1563 [==============================] - 45s 29ms/step - loss: 0.6353 - accuracy: 0.7737 - val_loss: 0.8170 - val_accuracy: 0.7209\n"
          ]
        }
      ]
    },
    {
      "cell_type": "code",
      "metadata": {
        "colab": {
          "base_uri": "https://localhost:8080/",
          "height": 286
        },
        "id": "pRMDgVtcth3C",
        "outputId": "f2cb6e49-c302-48e1-aadd-62e84de3b457"
      },
      "source": [
        "import matplotlib.pyplot as plt\n",
        "plt.plot(r.history['loss'], label='loss')\n",
        "plt.plot(r.history['val_loss'], label='val_loss')\n",
        "plt.legend()"
      ],
      "execution_count": 13,
      "outputs": [
        {
          "output_type": "execute_result",
          "data": {
            "text/plain": [
              "<matplotlib.legend.Legend at 0x7f1492e43a10>"
            ]
          },
          "metadata": {},
          "execution_count": 13
        },
        {
          "output_type": "display_data",
          "data": {
            "image/png": "[encoded data removed]",
            "text/plain": [
              "<Figure size 432x288 with 1 Axes>"
            ]
          },
          "metadata": {
            "needs_background": "light"
          }
        }
      ]
    },
    {
      "cell_type": "code",
      "metadata": {
        "colab": {
          "base_uri": "https://localhost:8080/",
          "height": 282
        },
        "id": "5sopAJaOtyNt",
        "outputId": "f38693f4-1b59-48fc-9632-25bd071ccdea"
      },
      "source": [
        "plt.plot(r.history['accuracy'], label='acc')\n",
        "plt.plot(r.history['val_accuracy'], label='val_acc')\n",
        "plt.legend()"
      ],
      "execution_count": 14,
      "outputs": [
        {
          "output_type": "execute_result",
          "data": {
            "text/plain": [
              "<matplotlib.legend.Legend at 0x7f1492e2a950>"
            ]
          },
          "metadata": {},
          "execution_count": 14
        },
        {
          "output_type": "display_data",
          "data": {
            "image/png": "[encoded data removed]",
            "text/plain": [
              "<Figure size 432x288 with 1 Axes>"
            ]
          },
          "metadata": {
            "needs_background": "light"
          }
        }
      ]
    },
    {
      "cell_type": "code",
      "metadata": {
        "id": "4nBJCbXTuZ2d"
      },
      "source": [
        ""
      ],
      "execution_count": null,
      "outputs": []
    }
  ]
}