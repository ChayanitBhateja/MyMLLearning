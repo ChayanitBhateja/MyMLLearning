{
 "cells": [
  {
   "cell_type": "code",
   "execution_count": 1,
   "metadata": {},
   "outputs": [],
   "source": [
    "from selenium import webdriver\n",
    "from selenium.webdriver.common.keys import Keys\n",
    "from selenium.webdriver.common.by import By\n",
    "from selenium.webdriver.support.ui import WebDriverWait\n",
    "from selenium .webdriver.support import expected_conditions as EC"
   ]
  },
  {
   "cell_type": "code",
   "execution_count": 6,
   "metadata": {},
   "outputs": [],
   "source": [
    "driver = webdriver.Chrome(\"/usr/lib/chromium-browser/chromedriver\")\n",
    "driver.get('https://www.theindianway.in')"
   ]
  },
  {
   "cell_type": "code",
   "execution_count": 7,
   "metadata": {},
   "outputs": [
    {
     "data": {
      "text/plain": [
       "'Shiavoice - صوت الشيعة'"
      ]
     },
     "execution_count": 7,
     "metadata": {},
     "output_type": "execute_result"
    }
   ],
   "source": [
    "driver.title"
   ]
  },
  {
   "cell_type": "code",
   "execution_count": 11,
   "metadata": {},
   "outputs": [
    {
     "name": "stdout",
     "output_type": "stream",
     "text": [
      "Some Error.\n"
     ]
    }
   ],
   "source": [
    "try:\n",
    "    article = WebDriverWait(driver,10).until(\n",
    "    EC.presence_of_element_located((By.ID,'content'))\n",
    "    )\n",
    "    blogs = article.find_elements_by_tag_name('article')\n",
    "except:\n",
    "    print('Some Error.')"
   ]
  },
  {
   "cell_type": "code",
   "execution_count": 59,
   "metadata": {},
   "outputs": [
    {
     "name": "stdout",
     "output_type": "stream",
     "text": [
      "S4:E6: Denim length Hack every man should know\n",
      "S4:E5: 5 Ways you are wearing your Jeans wrong\n",
      "S4:E4: How to Pinroll Jeans in 6 easy Steps\n",
      "S4:E3: 5 Ways to Style Chinos | Fashion Tips 101\n",
      "S4:E2: Difference between Slim fit and Skinny fit jeans\n",
      "S4:E1: 6 Types of Pants Men can’t live without\n",
      "S3:E8: Homemade Beard Oil | DIY Natural Beard Oil\n",
      "S3:E7: How to fix a Patchy Beard | Beard Care\n",
      "S3:E6: Factors Affecting beard growth | No more Chikna\n",
      "S3:E5: Apply Beard Oil in 4 Steps | Tips 101\n"
     ]
    }
   ],
   "source": [
    "headers = []\n",
    "for blog in blogs:\n",
    "    header = blog.find_elements_by_class_name('blog-entry-title.entry-title')\n",
    "    headers.append(header)\n",
    "    \n",
    "for header in headers:\n",
    "    print(header[0].text)"
   ]
  },
  {
   "cell_type": "code",
   "execution_count": 60,
   "metadata": {},
   "outputs": [],
   "source": [
    "driver.quit()"
   ]
  },
  {
   "cell_type": "code",
   "execution_count": null,
   "metadata": {},
   "outputs": [],
   "source": []
  }
 ],
 "metadata": {
  "kernelspec": {
   "display_name": "Python 3",
   "language": "python",
   "name": "python3"
  },
  "language_info": {
   "codemirror_mode": {
    "name": "ipython",
    "version": 3
   },
   "file_extension": ".py",
   "mimetype": "text/x-python",
   "name": "python",
   "nbconvert_exporter": "python",
   "pygments_lexer": "ipython3",
   "version": "3.8.3"
  }
 },
 "nbformat": 4,
 "nbformat_minor": 4
}
