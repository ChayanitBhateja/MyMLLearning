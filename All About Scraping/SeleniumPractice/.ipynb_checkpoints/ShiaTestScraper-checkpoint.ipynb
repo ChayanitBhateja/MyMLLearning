{
 "cells": [
  {
   "cell_type": "code",
   "execution_count": 1,
   "metadata": {},
   "outputs": [],
   "source": [
    "from selenium import webdriver\n",
    "from selenium.webdriver.common.keys import Keys\n",
    "from selenium.webdriver.common.by import By\n",
    "from selenium.webdriver.support.ui import WebDriverWait\n",
    "from selenium .webdriver.support import expected_conditions as EC"
   ]
  },
  {
   "cell_type": "code",
   "execution_count": 2,
   "metadata": {},
   "outputs": [],
   "source": [
    "driver = webdriver.Chrome(\"/usr/lib/chromium-browser/chromedriver\")\n",
    "driver.get('http://www.shiavoice.com')"
   ]
  },
  {
   "cell_type": "code",
   "execution_count": 3,
   "metadata": {},
   "outputs": [
    {
     "data": {
      "text/plain": [
       "'Shiavoice - صوت الشيعة'"
      ]
     },
     "execution_count": 3,
     "metadata": {},
     "output_type": "execute_result"
    }
   ],
   "source": [
    "driver.title"
   ]
  },
  {
   "cell_type": "code",
   "execution_count": 4,
   "metadata": {},
   "outputs": [
    {
     "name": "stdout",
     "output_type": "stream",
     "text": [
      "['http://www.shiavoice.com/quran', 'http://www.shiavoice.com/ed3ie', 'http://www.shiavoice.com/zeyarat', 'http://www.shiavoice.com/athan', 'http://www.shiavoice.com/qesaed', 'http://www.shiavoice.com/mohadrat', 'http://www.shiavoice.com/khotab', 'http://www.shiavoice.com/letmiat', 'http://www.shiavoice.com/afrah', 'http://www.shiavoice.com/tewashih', 'http://www.shiavoice.com/enashid', 'http://www.shiavoice.com/hawza', 'http://www.shiavoice.com/video', 'http://www.shiavoice.com/kutub']\n"
     ]
    }
   ],
   "source": [
    "navigationList = []\n",
    "menuLinkList = driver.find_element_by_id('menulinks')\n",
    "linksList = menuLinkList.find_elements_by_tag_name('a')\n",
    "for link in linksList:\n",
    "    navigationList.append(link.get_attribute('href'))\n",
    "    \n",
    "print(navigationList)"
   ]
  },
  {
   "cell_type": "code",
   "execution_count": 5,
   "metadata": {},
   "outputs": [],
   "source": [
    "driver.get(navigationList[0])"
   ]
  },
  {
   "cell_type": "code",
   "execution_count": 19,
   "metadata": {},
   "outputs": [],
   "source": [
    "artistsLink = []\n",
    "artistList = driver.find_elements_by_class_name('col-sm-6.cat-div')\n",
    "\n",
    "#Naam vaise bhi samjh nahi aane wala...\n",
    "# artistName = driver.find_elements_by_tag_name('i')\n",
    "\n",
    "for artist in artistList:\n",
    "        artistsLink.append(artist.find_element_by_tag_name('a').get_attribute('href'))"
   ]
  },
  {
   "cell_type": "code",
   "execution_count": 25,
   "metadata": {
    "scrolled": true
   },
   "outputs": [],
   "source": [
    "driver.get(artistsLink[0])"
   ]
  },
  {
   "cell_type": "code",
   "execution_count": 23,
   "metadata": {},
   "outputs": [
    {
     "data": {
      "text/plain": [
       "161"
      ]
     },
     "execution_count": 23,
     "metadata": {},
     "output_type": "execute_result"
    }
   ],
   "source": [
    "len(artistsLink)"
   ]
  },
  {
   "cell_type": "code",
   "execution_count": null,
   "metadata": {},
   "outputs": [],
   "source": []
  }
 ],
 "metadata": {
  "kernelspec": {
   "display_name": "Python 3",
   "language": "python",
   "name": "python3"
  },
  "language_info": {
   "codemirror_mode": {
    "name": "ipython",
    "version": 3
   },
   "file_extension": ".py",
   "mimetype": "text/x-python",
   "name": "python",
   "nbconvert_exporter": "python",
   "pygments_lexer": "ipython3",
   "version": "3.8.3"
  }
 },
 "nbformat": 4,
 "nbformat_minor": 4
}
