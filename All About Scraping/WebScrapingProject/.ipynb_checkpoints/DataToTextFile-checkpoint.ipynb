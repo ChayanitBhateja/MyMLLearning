{
 "cells": [
  {
   "cell_type": "code",
   "execution_count": 61,
   "metadata": {},
   "outputs": [],
   "source": [
    "import pandas as pd\n",
    "#for translating webpage\n",
    "from textblob import TextBlob\n",
    "#for scraping the web\n",
    "from bs4 import BeautifulSoup\n",
    "import requests"
   ]
  },
  {
   "cell_type": "code",
   "execution_count": 62,
   "metadata": {},
   "outputs": [],
   "source": [
    "dataset = pd.read_excel('SampleData.xlsx')"
   ]
  },
  {
   "cell_type": "code",
   "execution_count": 63,
   "metadata": {},
   "outputs": [],
   "source": [
    "dataset = dataset[['id','homepage']]"
   ]
  },
  {
   "cell_type": "code",
   "execution_count": 72,
   "metadata": {},
   "outputs": [
    {
     "data": {
      "text/html": [
       "<div>\n",
       "<style scoped>\n",
       "    .dataframe tbody tr th:only-of-type {\n",
       "        vertical-align: middle;\n",
       "    }\n",
       "\n",
       "    .dataframe tbody tr th {\n",
       "        vertical-align: top;\n",
       "    }\n",
       "\n",
       "    .dataframe thead th {\n",
       "        text-align: right;\n",
       "    }\n",
       "</style>\n",
       "<table border=\"1\" class=\"dataframe\">\n",
       "  <thead>\n",
       "    <tr style=\"text-align: right;\">\n",
       "      <th></th>\n",
       "      <th>id</th>\n",
       "      <th>homepage</th>\n",
       "    </tr>\n",
       "  </thead>\n",
       "  <tbody>\n",
       "    <tr>\n",
       "      <th>0</th>\n",
       "      <td>50390</td>\n",
       "      <td>http://www.oettinger-sportwagen.de/</td>\n",
       "    </tr>\n",
       "    <tr>\n",
       "      <th>1</th>\n",
       "      <td>2954</td>\n",
       "      <td>http://www.audi-zentrum-dresden.de/</td>\n",
       "    </tr>\n",
       "    <tr>\n",
       "      <th>2</th>\n",
       "      <td>5277</td>\n",
       "      <td>http://www.auto-trentzsch.de/</td>\n",
       "    </tr>\n",
       "    <tr>\n",
       "      <th>3</th>\n",
       "      <td>6910</td>\n",
       "      <td>http://www.opel-dresden-bremer.de/</td>\n",
       "    </tr>\n",
       "    <tr>\n",
       "      <th>4</th>\n",
       "      <td>9476</td>\n",
       "      <td>http://www.opelhaendler.de/autohaus-dresden_dr...</td>\n",
       "    </tr>\n",
       "    <tr>\n",
       "      <th>5</th>\n",
       "      <td>10929</td>\n",
       "      <td>http://www.hanisch.hyundai.de/</td>\n",
       "    </tr>\n",
       "    <tr>\n",
       "      <th>6</th>\n",
       "      <td>330735</td>\n",
       "      <td>http://bmw-partner.bmw.de/autohaus-melkus-dres...</td>\n",
       "    </tr>\n",
       "    <tr>\n",
       "      <th>7</th>\n",
       "      <td>21155</td>\n",
       "      <td>http://www.ruediger-dresden.skoda-auto.de/</td>\n",
       "    </tr>\n",
       "    <tr>\n",
       "      <th>8</th>\n",
       "      <td>517707</td>\n",
       "      <td>http://www.junited-autoglas.de/</td>\n",
       "    </tr>\n",
       "    <tr>\n",
       "      <th>9</th>\n",
       "      <td>518826</td>\n",
       "      <td>http://ksautoglas.de/index.php?s=ueber-ks-auto...</td>\n",
       "    </tr>\n",
       "  </tbody>\n",
       "</table>\n",
       "</div>"
      ],
      "text/plain": [
       "       id                                           homepage\n",
       "0   50390                http://www.oettinger-sportwagen.de/\n",
       "1    2954                http://www.audi-zentrum-dresden.de/\n",
       "2    5277                      http://www.auto-trentzsch.de/\n",
       "3    6910                 http://www.opel-dresden-bremer.de/\n",
       "4    9476  http://www.opelhaendler.de/autohaus-dresden_dr...\n",
       "5   10929                     http://www.hanisch.hyundai.de/\n",
       "6  330735  http://bmw-partner.bmw.de/autohaus-melkus-dres...\n",
       "7   21155         http://www.ruediger-dresden.skoda-auto.de/\n",
       "8  517707                    http://www.junited-autoglas.de/\n",
       "9  518826  http://ksautoglas.de/index.php?s=ueber-ks-auto..."
      ]
     },
     "execution_count": 72,
     "metadata": {},
     "output_type": "execute_result"
    }
   ],
   "source": [
    "dataset.head(10)"
   ]
  },
  {
   "cell_type": "code",
   "execution_count": 14,
   "metadata": {},
   "outputs": [
    {
     "data": {
      "text/plain": [
       "200"
      ]
     },
     "execution_count": 14,
     "metadata": {},
     "output_type": "execute_result"
    }
   ],
   "source": [
    "webData = requests.get(dataset.homepage[0])\n",
    "webData.status_code"
   ]
  },
  {
   "cell_type": "code",
   "execution_count": null,
   "metadata": {},
   "outputs": [],
   "source": [
    "soup = BeautifulSoup(webData.content,'html.parser')\n",
    "soupText = soup.prettify()\n",
    "print(len(soupText))"
   ]
  },
  {
   "cell_type": "code",
   "execution_count": null,
   "metadata": {},
   "outputs": [],
   "source": [
    "deText = soup.find('p')\n",
    "print(deText)\n",
    "deTextBlob = TextBlob(deText.text)\n",
    "deTextBlob.detect_language()"
   ]
  },
  {
   "cell_type": "code",
   "execution_count": null,
   "metadata": {
    "scrolled": true
   },
   "outputs": [],
   "source": [
    "blob = TextBlob(soupText)\n",
    "blob.\n",
    "Englishstr = blob.translate(from_lang='de',to='en')\n",
    "print('------------------------------------------------')\n",
    "print(Englishstr)"
   ]
  },
  {
   "cell_type": "code",
   "execution_count": 77,
   "metadata": {},
   "outputs": [],
   "source": [
    "%run ScrapeHeroScraping.ipynb\n",
    "import os\n",
    "notScraped = {}\n",
    "def startScraping(homepages, baseIndex = 0):\n",
    "    for index in range(baseIndex,len(homepages)):\n",
    "        print(index)\n",
    "        try:\n",
    "            response = requests.get(homepages[index])\n",
    "            print('Request Success')\n",
    "            if(response.status_code == 200):\n",
    "                soup = BeautifulSoup(response.content,'html.parser')\n",
    "                print('gathered Soup')\n",
    "                soupText = soup.prettify()\n",
    "                deText = soup.find('p')\n",
    "                print('found deText')\n",
    "                deTextBlob = TextBlob(deText.text)\n",
    "                textLang = deTextBlob.detect_language()\n",
    "                print('Language Detected',textLang)\n",
    "                blob = TextBlob(soupText)\n",
    "                Englishstr = blob.translate(from_lang=textLang,to='en')\n",
    "                if not os.path.exists('raw_data/%s'%homepages[index][7:]):\n",
    "                    os.makedirs('raw_data/%s'%homepages[index][7:])\n",
    "                file1 = open('raw_data/%s/allSeprateFile.txt'%homepages[index][7:],'w')\n",
    "                file1.writelines(Englishstr)\n",
    "                file1.close()\n",
    "            elif(response.status_code != 200):\n",
    "                notScraped[homepages[index]]=response.status_code\n",
    "        except Exception as e:\n",
    "            print('reached exception')\n",
    "            notScraped[homepages[index]]=e\n",
    "            print(e)\n",
    "#             continue\n",
    "            \n",
    "#             startScraping(homepages[index+2:len(homepages)])\n",
    "        "
   ]
  },
  {
   "cell_type": "code",
   "execution_count": 76,
   "metadata": {
    "scrolled": false
   },
   "outputs": [
    {
     "name": "stdout",
     "output_type": "stream",
     "text": [
      "4\n",
      "reached exception\n",
      "'NoneType' object has no attribute 'text'\n",
      "5\n",
      "reached exception\n",
      "'NoneType' object has no attribute 'text'\n",
      "6\n",
      "7\n",
      "8\n",
      "9\n",
      "10\n",
      "reached exception\n",
      "HTTPSConnectionPool(host='www.dresdner-reifen-zentrale.de', port=443): Max retries exceeded with url: / (Caused by SSLError(SSLCertVerificationError(1, '[SSL: CERTIFICATE_VERIFY_FAILED] certificate verify failed: self signed certificate (_ssl.c:1108)')))\n",
      "11\n",
      "reached exception\n",
      "Translation API returned the input string unchanged.\n",
      "12\n",
      "reached exception\n",
      "('Connection aborted.', ConnectionResetError(104, 'Connection reset by peer'))\n",
      "13\n",
      "14\n",
      "15\n",
      "reached exception\n",
      "Must provide a string with at least 3 characters.\n",
      "16\n",
      "reached exception\n",
      "Must provide a string with at least 3 characters.\n",
      "17\n",
      "18\n",
      "19\n",
      "20\n",
      "reached exception\n",
      "'NoneType' object has no attribute 'text'\n",
      "21\n",
      "22\n",
      "23\n",
      "reached exception\n",
      "HTTPConnectionPool(host='www.karosserie-zdzieblik-dresden.de', port=80): Max retries exceeded with url: / (Caused by NewConnectionError('<urllib3.connection.HTTPConnection object at 0x7f40178267c0>: Failed to establish a new connection: [Errno -2] Name or service not known'))\n",
      "24\n",
      "reached exception\n",
      "Must provide a string with at least 3 characters.\n",
      "25\n",
      "26\n",
      "reached exception\n",
      "Must provide a string with at least 3 characters.\n",
      "27\n",
      "28\n",
      "reached exception\n",
      "'NoneType' object has no attribute 'text'\n",
      "29\n",
      "reached exception\n",
      "Must provide a string with at least 3 characters.\n",
      "30\n",
      "reached exception\n",
      "'NoneType' object has no attribute 'text'\n",
      "31\n",
      "reached exception\n",
      "Translation API returned the input string unchanged.\n",
      "32\n"
     ]
    },
    {
     "name": "stderr",
     "output_type": "stream",
     "text": [
      "Some characters could not be decoded, and were replaced with REPLACEMENT CHARACTER.\n"
     ]
    },
    {
     "name": "stdout",
     "output_type": "stream",
     "text": [
      "33\n",
      "reached exception\n",
      "'NoneType' object has no attribute 'text'\n",
      "34\n",
      "35\n",
      "reached exception\n",
      "HTTPConnectionPool(host='www.partner.volvocars.de', port=80): Max retries exceeded with url: /sachsengarage/dresdner-heide/ (Caused by NewConnectionError('<urllib3.connection.HTTPConnection object at 0x7f4017a4aca0>: Failed to establish a new connection: [Errno 111] Connection refused'))\n",
      "36\n",
      "reached exception\n",
      "HTTPConnectionPool(host='www.schiemann.hyundai.de', port=80): Max retries exceeded with url: / (Caused by NewConnectionError('<urllib3.connection.HTTPConnection object at 0x7f4017a48550>: Failed to establish a new connection: [Errno -2] Name or service not known'))\n",
      "37\n",
      "reached exception\n",
      "Must provide a string with at least 3 characters.\n",
      "38\n",
      "reached exception\n",
      "Translation API returned the input string unchanged.\n",
      "39\n",
      "reached exception\n",
      "HTTPConnectionPool(host='www.gloeckner.chrysler.de', port=80): Max retries exceeded with url: / (Caused by NewConnectionError('<urllib3.connection.HTTPConnection object at 0x7f401dc7e700>: Failed to establish a new connection: [Errno 113] No route to host'))\n",
      "40\n",
      "reached exception\n",
      "'NoneType' object has no attribute 'text'\n",
      "41\n",
      "reached exception\n",
      "'NoneType' object has no attribute 'text'\n",
      "42\n",
      "43\n",
      "reached exception\n",
      "'NoneType' object has no attribute 'text'\n",
      "44\n",
      "45\n",
      "46\n",
      "reached exception\n",
      "'NoneType' object has no attribute 'text'\n",
      "47\n",
      "48\n",
      "49\n",
      "50\n",
      "51\n",
      "reached exception\n",
      "Translation API returned the input string unchanged.\n",
      "52\n",
      "53\n",
      "reached exception\n",
      "Must provide a string with at least 3 characters.\n",
      "54\n",
      "reached exception\n",
      "Must provide a string with at least 3 characters.\n",
      "55\n",
      "reached exception\n",
      "HTTPConnectionPool(host='www.ams-hannss.de', port=80): Max retries exceeded with url: / (Caused by NewConnectionError('<urllib3.connection.HTTPConnection object at 0x7f401c18ce80>: Failed to establish a new connection: [Errno -2] Name or service not known'))\n",
      "56\n",
      "57\n",
      "58\n",
      "reached exception\n",
      "Translation API returned the input string unchanged.\n",
      "59\n",
      "60\n",
      "61\n",
      "62\n",
      "reached exception\n",
      "Translation API returned the input string unchanged.\n",
      "63\n",
      "reached exception\n",
      "HTTPSConnectionPool(host='strehle.kiapartner.de', port=443): Max retries exceeded with url: / (Caused by SSLError(SSLCertVerificationError(\"hostname 'strehle.kiapartner.de' doesn't match either of 'mk.kia-dws.de', 'www.mk.kia-dws.de'\")))\n",
      "64\n",
      "reached exception\n",
      "HTTPConnectionPool(host='www.citroen-haendler.de', port=80): Max retries exceeded with url: /heider-dresden/ (Caused by NewConnectionError('<urllib3.connection.HTTPConnection object at 0x7f401e175d30>: Failed to establish a new connection: [Errno 110] Connection timed out'))\n",
      "65\n",
      "reached exception\n",
      "'NoneType' object has no attribute 'text'\n",
      "66\n",
      "67\n",
      "68\n",
      "69\n",
      "reached exception\n",
      "('Connection aborted.', OSError(0, 'Error'))\n",
      "70\n",
      "71\n",
      "72\n",
      "reached exception\n",
      "HTTPConnectionPool(host='www.saab-erleben.de', port=80): Max retries exceeded with url: / (Caused by NewConnectionError('<urllib3.connection.HTTPConnection object at 0x7f4017293eb0>: Failed to establish a new connection: [Errno -2] Name or service not known'))\n",
      "73\n",
      "74\n",
      "75\n",
      "reached exception\n",
      "'NoneType' object has no attribute 'text'\n",
      "76\n",
      "77\n",
      "78\n",
      "reached exception\n",
      "HTTPConnectionPool(host='www.citroen-haendler.de', port=80): Max retries exceeded with url: /bernhardt-dresden/ (Caused by NewConnectionError('<urllib3.connection.HTTPConnection object at 0x7f4016a707f0>: Failed to establish a new connection: [Errno 110] Connection timed out'))\n",
      "79\n",
      "80\n",
      "reached exception\n",
      "'NoneType' object has no attribute 'text'\n",
      "81\n",
      "82\n",
      "83\n",
      "84\n",
      "reached exception\n",
      "HTTPSConnectionPool(host='autogalerie-dresden.kiapartner.de', port=443): Max retries exceeded with url: / (Caused by SSLError(SSLCertVerificationError(\"hostname 'autogalerie-dresden.kiapartner.de' doesn't match either of 'mk.kia-dws.de', 'www.mk.kia-dws.de'\")))\n",
      "85\n",
      "reached exception\n",
      "Must provide a string with at least 3 characters.\n",
      "86\n",
      "87\n",
      "reached exception\n",
      "HTTPConnectionPool(host='www.citroen-haendler.de', port=80): Max retries exceeded with url: /fiedler-dresden/ (Caused by NewConnectionError('<urllib3.connection.HTTPConnection object at 0x7f401c02b400>: Failed to establish a new connection: [Errno 110] Connection timed out'))\n",
      "88\n",
      "89\n",
      "90\n",
      "91\n",
      "92\n",
      "93\n",
      "reached exception\n",
      "Must provide a string with at least 3 characters.\n",
      "94\n",
      "95\n",
      "96\n",
      "reached exception\n",
      "Translation API returned the input string unchanged.\n",
      "97\n",
      "98\n",
      "reached exception\n",
      "Must provide a string with at least 3 characters.\n",
      "99\n",
      "100\n",
      "reached exception\n",
      "('Connection aborted.', ConnectionResetError(104, 'Connection reset by peer'))\n",
      "101\n",
      "102\n",
      "reached exception\n",
      "'NoneType' object has no attribute 'text'\n",
      "103\n",
      "reached exception\n",
      "HTTPConnectionPool(host='automobile-ebflorenz.de', port=80): Max retries exceeded with url: / (Caused by NewConnectionError('<urllib3.connection.HTTPConnection object at 0x7f40170d64c0>: Failed to establish a new connection: [Errno -2] Name or service not known'))\n",
      "104\n",
      "105\n",
      "106\n",
      "reached exception\n",
      "Must provide a string with at least 3 characters.\n",
      "107\n",
      "108\n",
      "reached exception\n",
      "Must provide a string with at least 3 characters.\n",
      "109\n",
      "reached exception\n",
      "HTTPSConnectionPool(host='www.dresdner-reifen-zentrale.de', port=443): Max retries exceeded with url: / (Caused by SSLError(SSLCertVerificationError(1, '[SSL: CERTIFICATE_VERIFY_FAILED] certificate verify failed: self signed certificate (_ssl.c:1108)')))\n",
      "110\n",
      "111\n",
      "reached exception\n",
      "'NoneType' object has no attribute 'text'\n",
      "112\n",
      "113\n",
      "114\n",
      "reached exception\n",
      "Invalid URL 'www.reifen-ruehle.de': No schema supplied. Perhaps you meant http://www.reifen-ruehle.de?\n",
      "115\n"
     ]
    },
    {
     "ename": "KeyboardInterrupt",
     "evalue": "",
     "output_type": "error",
     "traceback": [
      "\u001b[0;31m---------------------------------------------------------------------------\u001b[0m",
      "\u001b[0;31mKeyboardInterrupt\u001b[0m                         Traceback (most recent call last)",
      "\u001b[0;32m<ipython-input-76-1c28455bf179>\u001b[0m in \u001b[0;36m<module>\u001b[0;34m\u001b[0m\n\u001b[0;32m----> 1\u001b[0;31m \u001b[0mstartScraping\u001b[0m\u001b[0;34m(\u001b[0m\u001b[0mdataset\u001b[0m\u001b[0;34m[\u001b[0m\u001b[0;34m'homepage'\u001b[0m\u001b[0;34m]\u001b[0m\u001b[0;34m,\u001b[0m\u001b[0;36m4\u001b[0m\u001b[0;34m)\u001b[0m\u001b[0;34m\u001b[0m\u001b[0;34m\u001b[0m\u001b[0m\n\u001b[0m\u001b[1;32m      2\u001b[0m \u001b[0mnotScraped\u001b[0m\u001b[0;34m\u001b[0m\u001b[0;34m\u001b[0m\u001b[0m\n\u001b[1;32m      3\u001b[0m \u001b[0;31m# !jupyter nb\u001b[0m\u001b[0;34m\u001b[0m\u001b[0;34m\u001b[0m\u001b[0;34m\u001b[0m\u001b[0m\n",
      "\u001b[0;32m<ipython-input-75-afe95efa2873>\u001b[0m in \u001b[0;36mstartScraping\u001b[0;34m(homepages, baseIndex)\u001b[0m\n\u001b[1;32m      6\u001b[0m         \u001b[0mprint\u001b[0m\u001b[0;34m(\u001b[0m\u001b[0mindex\u001b[0m\u001b[0;34m)\u001b[0m\u001b[0;34m\u001b[0m\u001b[0;34m\u001b[0m\u001b[0m\n\u001b[1;32m      7\u001b[0m         \u001b[0;32mtry\u001b[0m\u001b[0;34m:\u001b[0m\u001b[0;34m\u001b[0m\u001b[0;34m\u001b[0m\u001b[0m\n\u001b[0;32m----> 8\u001b[0;31m             \u001b[0mresponse\u001b[0m \u001b[0;34m=\u001b[0m \u001b[0mrequests\u001b[0m\u001b[0;34m.\u001b[0m\u001b[0mget\u001b[0m\u001b[0;34m(\u001b[0m\u001b[0mhomepages\u001b[0m\u001b[0;34m[\u001b[0m\u001b[0mindex\u001b[0m\u001b[0;34m]\u001b[0m\u001b[0;34m)\u001b[0m\u001b[0;34m\u001b[0m\u001b[0;34m\u001b[0m\u001b[0m\n\u001b[0m\u001b[1;32m      9\u001b[0m             \u001b[0;32mif\u001b[0m\u001b[0;34m(\u001b[0m\u001b[0mresponse\u001b[0m\u001b[0;34m.\u001b[0m\u001b[0mstatus_code\u001b[0m \u001b[0;34m==\u001b[0m \u001b[0;36m200\u001b[0m\u001b[0;34m)\u001b[0m\u001b[0;34m:\u001b[0m\u001b[0;34m\u001b[0m\u001b[0;34m\u001b[0m\u001b[0m\n\u001b[1;32m     10\u001b[0m                 \u001b[0msoup\u001b[0m \u001b[0;34m=\u001b[0m \u001b[0mBeautifulSoup\u001b[0m\u001b[0;34m(\u001b[0m\u001b[0mresponse\u001b[0m\u001b[0;34m.\u001b[0m\u001b[0mcontent\u001b[0m\u001b[0;34m,\u001b[0m\u001b[0;34m'html.parser'\u001b[0m\u001b[0;34m)\u001b[0m\u001b[0;34m\u001b[0m\u001b[0;34m\u001b[0m\u001b[0m\n",
      "\u001b[0;32m~/anaconda3/lib/python3.8/site-packages/requests/api.py\u001b[0m in \u001b[0;36mget\u001b[0;34m(url, params, **kwargs)\u001b[0m\n\u001b[1;32m     74\u001b[0m \u001b[0;34m\u001b[0m\u001b[0m\n\u001b[1;32m     75\u001b[0m     \u001b[0mkwargs\u001b[0m\u001b[0;34m.\u001b[0m\u001b[0msetdefault\u001b[0m\u001b[0;34m(\u001b[0m\u001b[0;34m'allow_redirects'\u001b[0m\u001b[0;34m,\u001b[0m \u001b[0;32mTrue\u001b[0m\u001b[0;34m)\u001b[0m\u001b[0;34m\u001b[0m\u001b[0;34m\u001b[0m\u001b[0m\n\u001b[0;32m---> 76\u001b[0;31m     \u001b[0;32mreturn\u001b[0m \u001b[0mrequest\u001b[0m\u001b[0;34m(\u001b[0m\u001b[0;34m'get'\u001b[0m\u001b[0;34m,\u001b[0m \u001b[0murl\u001b[0m\u001b[0;34m,\u001b[0m \u001b[0mparams\u001b[0m\u001b[0;34m=\u001b[0m\u001b[0mparams\u001b[0m\u001b[0;34m,\u001b[0m \u001b[0;34m**\u001b[0m\u001b[0mkwargs\u001b[0m\u001b[0;34m)\u001b[0m\u001b[0;34m\u001b[0m\u001b[0;34m\u001b[0m\u001b[0m\n\u001b[0m\u001b[1;32m     77\u001b[0m \u001b[0;34m\u001b[0m\u001b[0m\n\u001b[1;32m     78\u001b[0m \u001b[0;34m\u001b[0m\u001b[0m\n",
      "\u001b[0;32m~/anaconda3/lib/python3.8/site-packages/requests/api.py\u001b[0m in \u001b[0;36mrequest\u001b[0;34m(method, url, **kwargs)\u001b[0m\n\u001b[1;32m     59\u001b[0m     \u001b[0;31m# cases, and look like a memory leak in others.\u001b[0m\u001b[0;34m\u001b[0m\u001b[0;34m\u001b[0m\u001b[0;34m\u001b[0m\u001b[0m\n\u001b[1;32m     60\u001b[0m     \u001b[0;32mwith\u001b[0m \u001b[0msessions\u001b[0m\u001b[0;34m.\u001b[0m\u001b[0mSession\u001b[0m\u001b[0;34m(\u001b[0m\u001b[0;34m)\u001b[0m \u001b[0;32mas\u001b[0m \u001b[0msession\u001b[0m\u001b[0;34m:\u001b[0m\u001b[0;34m\u001b[0m\u001b[0;34m\u001b[0m\u001b[0m\n\u001b[0;32m---> 61\u001b[0;31m         \u001b[0;32mreturn\u001b[0m \u001b[0msession\u001b[0m\u001b[0;34m.\u001b[0m\u001b[0mrequest\u001b[0m\u001b[0;34m(\u001b[0m\u001b[0mmethod\u001b[0m\u001b[0;34m=\u001b[0m\u001b[0mmethod\u001b[0m\u001b[0;34m,\u001b[0m \u001b[0murl\u001b[0m\u001b[0;34m=\u001b[0m\u001b[0murl\u001b[0m\u001b[0;34m,\u001b[0m \u001b[0;34m**\u001b[0m\u001b[0mkwargs\u001b[0m\u001b[0;34m)\u001b[0m\u001b[0;34m\u001b[0m\u001b[0;34m\u001b[0m\u001b[0m\n\u001b[0m\u001b[1;32m     62\u001b[0m \u001b[0;34m\u001b[0m\u001b[0m\n\u001b[1;32m     63\u001b[0m \u001b[0;34m\u001b[0m\u001b[0m\n",
      "\u001b[0;32m~/anaconda3/lib/python3.8/site-packages/requests/sessions.py\u001b[0m in \u001b[0;36mrequest\u001b[0;34m(self, method, url, params, data, headers, cookies, files, auth, timeout, allow_redirects, proxies, hooks, stream, verify, cert, json)\u001b[0m\n\u001b[1;32m    528\u001b[0m         }\n\u001b[1;32m    529\u001b[0m         \u001b[0msend_kwargs\u001b[0m\u001b[0;34m.\u001b[0m\u001b[0mupdate\u001b[0m\u001b[0;34m(\u001b[0m\u001b[0msettings\u001b[0m\u001b[0;34m)\u001b[0m\u001b[0;34m\u001b[0m\u001b[0;34m\u001b[0m\u001b[0m\n\u001b[0;32m--> 530\u001b[0;31m         \u001b[0mresp\u001b[0m \u001b[0;34m=\u001b[0m \u001b[0mself\u001b[0m\u001b[0;34m.\u001b[0m\u001b[0msend\u001b[0m\u001b[0;34m(\u001b[0m\u001b[0mprep\u001b[0m\u001b[0;34m,\u001b[0m \u001b[0;34m**\u001b[0m\u001b[0msend_kwargs\u001b[0m\u001b[0;34m)\u001b[0m\u001b[0;34m\u001b[0m\u001b[0;34m\u001b[0m\u001b[0m\n\u001b[0m\u001b[1;32m    531\u001b[0m \u001b[0;34m\u001b[0m\u001b[0m\n\u001b[1;32m    532\u001b[0m         \u001b[0;32mreturn\u001b[0m \u001b[0mresp\u001b[0m\u001b[0;34m\u001b[0m\u001b[0;34m\u001b[0m\u001b[0m\n",
      "\u001b[0;32m~/anaconda3/lib/python3.8/site-packages/requests/sessions.py\u001b[0m in \u001b[0;36msend\u001b[0;34m(self, request, **kwargs)\u001b[0m\n\u001b[1;32m    641\u001b[0m \u001b[0;34m\u001b[0m\u001b[0m\n\u001b[1;32m    642\u001b[0m         \u001b[0;31m# Send the request\u001b[0m\u001b[0;34m\u001b[0m\u001b[0;34m\u001b[0m\u001b[0;34m\u001b[0m\u001b[0m\n\u001b[0;32m--> 643\u001b[0;31m         \u001b[0mr\u001b[0m \u001b[0;34m=\u001b[0m \u001b[0madapter\u001b[0m\u001b[0;34m.\u001b[0m\u001b[0msend\u001b[0m\u001b[0;34m(\u001b[0m\u001b[0mrequest\u001b[0m\u001b[0;34m,\u001b[0m \u001b[0;34m**\u001b[0m\u001b[0mkwargs\u001b[0m\u001b[0;34m)\u001b[0m\u001b[0;34m\u001b[0m\u001b[0;34m\u001b[0m\u001b[0m\n\u001b[0m\u001b[1;32m    644\u001b[0m \u001b[0;34m\u001b[0m\u001b[0m\n\u001b[1;32m    645\u001b[0m         \u001b[0;31m# Total elapsed time of the request (approximately)\u001b[0m\u001b[0;34m\u001b[0m\u001b[0;34m\u001b[0m\u001b[0;34m\u001b[0m\u001b[0m\n",
      "\u001b[0;32m~/anaconda3/lib/python3.8/site-packages/requests/adapters.py\u001b[0m in \u001b[0;36msend\u001b[0;34m(self, request, stream, timeout, verify, cert, proxies)\u001b[0m\n\u001b[1;32m    437\u001b[0m         \u001b[0;32mtry\u001b[0m\u001b[0;34m:\u001b[0m\u001b[0;34m\u001b[0m\u001b[0;34m\u001b[0m\u001b[0m\n\u001b[1;32m    438\u001b[0m             \u001b[0;32mif\u001b[0m \u001b[0;32mnot\u001b[0m \u001b[0mchunked\u001b[0m\u001b[0;34m:\u001b[0m\u001b[0;34m\u001b[0m\u001b[0;34m\u001b[0m\u001b[0m\n\u001b[0;32m--> 439\u001b[0;31m                 resp = conn.urlopen(\n\u001b[0m\u001b[1;32m    440\u001b[0m                     \u001b[0mmethod\u001b[0m\u001b[0;34m=\u001b[0m\u001b[0mrequest\u001b[0m\u001b[0;34m.\u001b[0m\u001b[0mmethod\u001b[0m\u001b[0;34m,\u001b[0m\u001b[0;34m\u001b[0m\u001b[0;34m\u001b[0m\u001b[0m\n\u001b[1;32m    441\u001b[0m                     \u001b[0murl\u001b[0m\u001b[0;34m=\u001b[0m\u001b[0murl\u001b[0m\u001b[0;34m,\u001b[0m\u001b[0;34m\u001b[0m\u001b[0;34m\u001b[0m\u001b[0m\n",
      "\u001b[0;32m~/anaconda3/lib/python3.8/site-packages/urllib3/connectionpool.py\u001b[0m in \u001b[0;36murlopen\u001b[0;34m(self, method, url, body, headers, retries, redirect, assert_same_host, timeout, pool_timeout, release_conn, chunked, body_pos, **response_kw)\u001b[0m\n\u001b[1;32m    668\u001b[0m \u001b[0;34m\u001b[0m\u001b[0m\n\u001b[1;32m    669\u001b[0m             \u001b[0;31m# Make the request on the httplib connection object.\u001b[0m\u001b[0;34m\u001b[0m\u001b[0;34m\u001b[0m\u001b[0;34m\u001b[0m\u001b[0m\n\u001b[0;32m--> 670\u001b[0;31m             httplib_response = self._make_request(\n\u001b[0m\u001b[1;32m    671\u001b[0m                 \u001b[0mconn\u001b[0m\u001b[0;34m,\u001b[0m\u001b[0;34m\u001b[0m\u001b[0;34m\u001b[0m\u001b[0m\n\u001b[1;32m    672\u001b[0m                 \u001b[0mmethod\u001b[0m\u001b[0;34m,\u001b[0m\u001b[0;34m\u001b[0m\u001b[0;34m\u001b[0m\u001b[0m\n",
      "\u001b[0;32m~/anaconda3/lib/python3.8/site-packages/urllib3/connectionpool.py\u001b[0m in \u001b[0;36m_make_request\u001b[0;34m(self, conn, method, url, timeout, chunked, **httplib_request_kw)\u001b[0m\n\u001b[1;32m    390\u001b[0m             \u001b[0mconn\u001b[0m\u001b[0;34m.\u001b[0m\u001b[0mrequest_chunked\u001b[0m\u001b[0;34m(\u001b[0m\u001b[0mmethod\u001b[0m\u001b[0;34m,\u001b[0m \u001b[0murl\u001b[0m\u001b[0;34m,\u001b[0m \u001b[0;34m**\u001b[0m\u001b[0mhttplib_request_kw\u001b[0m\u001b[0;34m)\u001b[0m\u001b[0;34m\u001b[0m\u001b[0;34m\u001b[0m\u001b[0m\n\u001b[1;32m    391\u001b[0m         \u001b[0;32melse\u001b[0m\u001b[0;34m:\u001b[0m\u001b[0;34m\u001b[0m\u001b[0;34m\u001b[0m\u001b[0m\n\u001b[0;32m--> 392\u001b[0;31m             \u001b[0mconn\u001b[0m\u001b[0;34m.\u001b[0m\u001b[0mrequest\u001b[0m\u001b[0;34m(\u001b[0m\u001b[0mmethod\u001b[0m\u001b[0;34m,\u001b[0m \u001b[0murl\u001b[0m\u001b[0;34m,\u001b[0m \u001b[0;34m**\u001b[0m\u001b[0mhttplib_request_kw\u001b[0m\u001b[0;34m)\u001b[0m\u001b[0;34m\u001b[0m\u001b[0;34m\u001b[0m\u001b[0m\n\u001b[0m\u001b[1;32m    393\u001b[0m \u001b[0;34m\u001b[0m\u001b[0m\n\u001b[1;32m    394\u001b[0m         \u001b[0;31m# Reset the timeout for the recv() on the socket\u001b[0m\u001b[0;34m\u001b[0m\u001b[0;34m\u001b[0m\u001b[0;34m\u001b[0m\u001b[0m\n",
      "\u001b[0;32m~/anaconda3/lib/python3.8/http/client.py\u001b[0m in \u001b[0;36mrequest\u001b[0;34m(self, method, url, body, headers, encode_chunked)\u001b[0m\n\u001b[1;32m   1238\u001b[0m                 encode_chunked=False):\n\u001b[1;32m   1239\u001b[0m         \u001b[0;34m\"\"\"Send a complete request to the server.\"\"\"\u001b[0m\u001b[0;34m\u001b[0m\u001b[0;34m\u001b[0m\u001b[0m\n\u001b[0;32m-> 1240\u001b[0;31m         \u001b[0mself\u001b[0m\u001b[0;34m.\u001b[0m\u001b[0m_send_request\u001b[0m\u001b[0;34m(\u001b[0m\u001b[0mmethod\u001b[0m\u001b[0;34m,\u001b[0m \u001b[0murl\u001b[0m\u001b[0;34m,\u001b[0m \u001b[0mbody\u001b[0m\u001b[0;34m,\u001b[0m \u001b[0mheaders\u001b[0m\u001b[0;34m,\u001b[0m \u001b[0mencode_chunked\u001b[0m\u001b[0;34m)\u001b[0m\u001b[0;34m\u001b[0m\u001b[0;34m\u001b[0m\u001b[0m\n\u001b[0m\u001b[1;32m   1241\u001b[0m \u001b[0;34m\u001b[0m\u001b[0m\n\u001b[1;32m   1242\u001b[0m     \u001b[0;32mdef\u001b[0m \u001b[0m_send_request\u001b[0m\u001b[0;34m(\u001b[0m\u001b[0mself\u001b[0m\u001b[0;34m,\u001b[0m \u001b[0mmethod\u001b[0m\u001b[0;34m,\u001b[0m \u001b[0murl\u001b[0m\u001b[0;34m,\u001b[0m \u001b[0mbody\u001b[0m\u001b[0;34m,\u001b[0m \u001b[0mheaders\u001b[0m\u001b[0;34m,\u001b[0m \u001b[0mencode_chunked\u001b[0m\u001b[0;34m)\u001b[0m\u001b[0;34m:\u001b[0m\u001b[0;34m\u001b[0m\u001b[0;34m\u001b[0m\u001b[0m\n",
      "\u001b[0;32m~/anaconda3/lib/python3.8/http/client.py\u001b[0m in \u001b[0;36m_send_request\u001b[0;34m(self, method, url, body, headers, encode_chunked)\u001b[0m\n\u001b[1;32m   1284\u001b[0m             \u001b[0;31m# default charset of iso-8859-1.\u001b[0m\u001b[0;34m\u001b[0m\u001b[0;34m\u001b[0m\u001b[0;34m\u001b[0m\u001b[0m\n\u001b[1;32m   1285\u001b[0m             \u001b[0mbody\u001b[0m \u001b[0;34m=\u001b[0m \u001b[0m_encode\u001b[0m\u001b[0;34m(\u001b[0m\u001b[0mbody\u001b[0m\u001b[0;34m,\u001b[0m \u001b[0;34m'body'\u001b[0m\u001b[0;34m)\u001b[0m\u001b[0;34m\u001b[0m\u001b[0;34m\u001b[0m\u001b[0m\n\u001b[0;32m-> 1286\u001b[0;31m         \u001b[0mself\u001b[0m\u001b[0;34m.\u001b[0m\u001b[0mendheaders\u001b[0m\u001b[0;34m(\u001b[0m\u001b[0mbody\u001b[0m\u001b[0;34m,\u001b[0m \u001b[0mencode_chunked\u001b[0m\u001b[0;34m=\u001b[0m\u001b[0mencode_chunked\u001b[0m\u001b[0;34m)\u001b[0m\u001b[0;34m\u001b[0m\u001b[0;34m\u001b[0m\u001b[0m\n\u001b[0m\u001b[1;32m   1287\u001b[0m \u001b[0;34m\u001b[0m\u001b[0m\n\u001b[1;32m   1288\u001b[0m     \u001b[0;32mdef\u001b[0m \u001b[0mgetresponse\u001b[0m\u001b[0;34m(\u001b[0m\u001b[0mself\u001b[0m\u001b[0;34m)\u001b[0m\u001b[0;34m:\u001b[0m\u001b[0;34m\u001b[0m\u001b[0;34m\u001b[0m\u001b[0m\n",
      "\u001b[0;32m~/anaconda3/lib/python3.8/http/client.py\u001b[0m in \u001b[0;36mendheaders\u001b[0;34m(self, message_body, encode_chunked)\u001b[0m\n\u001b[1;32m   1233\u001b[0m         \u001b[0;32melse\u001b[0m\u001b[0;34m:\u001b[0m\u001b[0;34m\u001b[0m\u001b[0;34m\u001b[0m\u001b[0m\n\u001b[1;32m   1234\u001b[0m             \u001b[0;32mraise\u001b[0m \u001b[0mCannotSendHeader\u001b[0m\u001b[0;34m(\u001b[0m\u001b[0;34m)\u001b[0m\u001b[0;34m\u001b[0m\u001b[0;34m\u001b[0m\u001b[0m\n\u001b[0;32m-> 1235\u001b[0;31m         \u001b[0mself\u001b[0m\u001b[0;34m.\u001b[0m\u001b[0m_send_output\u001b[0m\u001b[0;34m(\u001b[0m\u001b[0mmessage_body\u001b[0m\u001b[0;34m,\u001b[0m \u001b[0mencode_chunked\u001b[0m\u001b[0;34m=\u001b[0m\u001b[0mencode_chunked\u001b[0m\u001b[0;34m)\u001b[0m\u001b[0;34m\u001b[0m\u001b[0;34m\u001b[0m\u001b[0m\n\u001b[0m\u001b[1;32m   1236\u001b[0m \u001b[0;34m\u001b[0m\u001b[0m\n\u001b[1;32m   1237\u001b[0m     def request(self, method, url, body=None, headers={}, *,\n",
      "\u001b[0;32m~/anaconda3/lib/python3.8/http/client.py\u001b[0m in \u001b[0;36m_send_output\u001b[0;34m(self, message_body, encode_chunked)\u001b[0m\n\u001b[1;32m   1004\u001b[0m         \u001b[0mmsg\u001b[0m \u001b[0;34m=\u001b[0m \u001b[0;34mb\"\\r\\n\"\u001b[0m\u001b[0;34m.\u001b[0m\u001b[0mjoin\u001b[0m\u001b[0;34m(\u001b[0m\u001b[0mself\u001b[0m\u001b[0;34m.\u001b[0m\u001b[0m_buffer\u001b[0m\u001b[0;34m)\u001b[0m\u001b[0;34m\u001b[0m\u001b[0;34m\u001b[0m\u001b[0m\n\u001b[1;32m   1005\u001b[0m         \u001b[0;32mdel\u001b[0m \u001b[0mself\u001b[0m\u001b[0;34m.\u001b[0m\u001b[0m_buffer\u001b[0m\u001b[0;34m[\u001b[0m\u001b[0;34m:\u001b[0m\u001b[0;34m]\u001b[0m\u001b[0;34m\u001b[0m\u001b[0;34m\u001b[0m\u001b[0m\n\u001b[0;32m-> 1006\u001b[0;31m         \u001b[0mself\u001b[0m\u001b[0;34m.\u001b[0m\u001b[0msend\u001b[0m\u001b[0;34m(\u001b[0m\u001b[0mmsg\u001b[0m\u001b[0;34m)\u001b[0m\u001b[0;34m\u001b[0m\u001b[0;34m\u001b[0m\u001b[0m\n\u001b[0m\u001b[1;32m   1007\u001b[0m \u001b[0;34m\u001b[0m\u001b[0m\n\u001b[1;32m   1008\u001b[0m         \u001b[0;32mif\u001b[0m \u001b[0mmessage_body\u001b[0m \u001b[0;32mis\u001b[0m \u001b[0;32mnot\u001b[0m \u001b[0;32mNone\u001b[0m\u001b[0;34m:\u001b[0m\u001b[0;34m\u001b[0m\u001b[0;34m\u001b[0m\u001b[0m\n",
      "\u001b[0;32m~/anaconda3/lib/python3.8/http/client.py\u001b[0m in \u001b[0;36msend\u001b[0;34m(self, data)\u001b[0m\n\u001b[1;32m    944\u001b[0m         \u001b[0;32mif\u001b[0m \u001b[0mself\u001b[0m\u001b[0;34m.\u001b[0m\u001b[0msock\u001b[0m \u001b[0;32mis\u001b[0m \u001b[0;32mNone\u001b[0m\u001b[0;34m:\u001b[0m\u001b[0;34m\u001b[0m\u001b[0;34m\u001b[0m\u001b[0m\n\u001b[1;32m    945\u001b[0m             \u001b[0;32mif\u001b[0m \u001b[0mself\u001b[0m\u001b[0;34m.\u001b[0m\u001b[0mauto_open\u001b[0m\u001b[0;34m:\u001b[0m\u001b[0;34m\u001b[0m\u001b[0;34m\u001b[0m\u001b[0m\n\u001b[0;32m--> 946\u001b[0;31m                 \u001b[0mself\u001b[0m\u001b[0;34m.\u001b[0m\u001b[0mconnect\u001b[0m\u001b[0;34m(\u001b[0m\u001b[0;34m)\u001b[0m\u001b[0;34m\u001b[0m\u001b[0;34m\u001b[0m\u001b[0m\n\u001b[0m\u001b[1;32m    947\u001b[0m             \u001b[0;32melse\u001b[0m\u001b[0;34m:\u001b[0m\u001b[0;34m\u001b[0m\u001b[0;34m\u001b[0m\u001b[0m\n\u001b[1;32m    948\u001b[0m                 \u001b[0;32mraise\u001b[0m \u001b[0mNotConnected\u001b[0m\u001b[0;34m(\u001b[0m\u001b[0;34m)\u001b[0m\u001b[0;34m\u001b[0m\u001b[0;34m\u001b[0m\u001b[0m\n",
      "\u001b[0;32m~/anaconda3/lib/python3.8/site-packages/urllib3/connection.py\u001b[0m in \u001b[0;36mconnect\u001b[0;34m(self)\u001b[0m\n\u001b[1;32m    185\u001b[0m \u001b[0;34m\u001b[0m\u001b[0m\n\u001b[1;32m    186\u001b[0m     \u001b[0;32mdef\u001b[0m \u001b[0mconnect\u001b[0m\u001b[0;34m(\u001b[0m\u001b[0mself\u001b[0m\u001b[0;34m)\u001b[0m\u001b[0;34m:\u001b[0m\u001b[0;34m\u001b[0m\u001b[0;34m\u001b[0m\u001b[0m\n\u001b[0;32m--> 187\u001b[0;31m         \u001b[0mconn\u001b[0m \u001b[0;34m=\u001b[0m \u001b[0mself\u001b[0m\u001b[0;34m.\u001b[0m\u001b[0m_new_conn\u001b[0m\u001b[0;34m(\u001b[0m\u001b[0;34m)\u001b[0m\u001b[0;34m\u001b[0m\u001b[0;34m\u001b[0m\u001b[0m\n\u001b[0m\u001b[1;32m    188\u001b[0m         \u001b[0mself\u001b[0m\u001b[0;34m.\u001b[0m\u001b[0m_prepare_conn\u001b[0m\u001b[0;34m(\u001b[0m\u001b[0mconn\u001b[0m\u001b[0;34m)\u001b[0m\u001b[0;34m\u001b[0m\u001b[0;34m\u001b[0m\u001b[0m\n\u001b[1;32m    189\u001b[0m \u001b[0;34m\u001b[0m\u001b[0m\n",
      "\u001b[0;32m~/anaconda3/lib/python3.8/site-packages/urllib3/connection.py\u001b[0m in \u001b[0;36m_new_conn\u001b[0;34m(self)\u001b[0m\n\u001b[1;32m    157\u001b[0m \u001b[0;34m\u001b[0m\u001b[0m\n\u001b[1;32m    158\u001b[0m         \u001b[0;32mtry\u001b[0m\u001b[0;34m:\u001b[0m\u001b[0;34m\u001b[0m\u001b[0;34m\u001b[0m\u001b[0m\n\u001b[0;32m--> 159\u001b[0;31m             conn = connection.create_connection(\n\u001b[0m\u001b[1;32m    160\u001b[0m                 \u001b[0;34m(\u001b[0m\u001b[0mself\u001b[0m\u001b[0;34m.\u001b[0m\u001b[0m_dns_host\u001b[0m\u001b[0;34m,\u001b[0m \u001b[0mself\u001b[0m\u001b[0;34m.\u001b[0m\u001b[0mport\u001b[0m\u001b[0;34m)\u001b[0m\u001b[0;34m,\u001b[0m \u001b[0mself\u001b[0m\u001b[0;34m.\u001b[0m\u001b[0mtimeout\u001b[0m\u001b[0;34m,\u001b[0m \u001b[0;34m**\u001b[0m\u001b[0mextra_kw\u001b[0m\u001b[0;34m\u001b[0m\u001b[0;34m\u001b[0m\u001b[0m\n\u001b[1;32m    161\u001b[0m             )\n",
      "\u001b[0;32m~/anaconda3/lib/python3.8/site-packages/urllib3/util/connection.py\u001b[0m in \u001b[0;36mcreate_connection\u001b[0;34m(address, timeout, source_address, socket_options)\u001b[0m\n\u001b[1;32m     72\u001b[0m             \u001b[0;32mif\u001b[0m \u001b[0msource_address\u001b[0m\u001b[0;34m:\u001b[0m\u001b[0;34m\u001b[0m\u001b[0;34m\u001b[0m\u001b[0m\n\u001b[1;32m     73\u001b[0m                 \u001b[0msock\u001b[0m\u001b[0;34m.\u001b[0m\u001b[0mbind\u001b[0m\u001b[0;34m(\u001b[0m\u001b[0msource_address\u001b[0m\u001b[0;34m)\u001b[0m\u001b[0;34m\u001b[0m\u001b[0;34m\u001b[0m\u001b[0m\n\u001b[0;32m---> 74\u001b[0;31m             \u001b[0msock\u001b[0m\u001b[0;34m.\u001b[0m\u001b[0mconnect\u001b[0m\u001b[0;34m(\u001b[0m\u001b[0msa\u001b[0m\u001b[0;34m)\u001b[0m\u001b[0;34m\u001b[0m\u001b[0;34m\u001b[0m\u001b[0m\n\u001b[0m\u001b[1;32m     75\u001b[0m             \u001b[0;32mreturn\u001b[0m \u001b[0msock\u001b[0m\u001b[0;34m\u001b[0m\u001b[0;34m\u001b[0m\u001b[0m\n\u001b[1;32m     76\u001b[0m \u001b[0;34m\u001b[0m\u001b[0m\n",
      "\u001b[0;31mKeyboardInterrupt\u001b[0m: "
     ]
    }
   ],
   "source": [
    "startScraping(dataset['homepage'],4)\n",
    "notScraped\n",
    "# !jupyter nb"
   ]
  },
  {
   "cell_type": "code",
   "execution_count": 73,
   "metadata": {},
   "outputs": [
    {
     "data": {
      "text/plain": [
       "<Response [200]>"
      ]
     },
     "execution_count": 73,
     "metadata": {},
     "output_type": "execute_result"
    }
   ],
   "source": [
    "response = requests.get(dataset.homepage[4])\n",
    "response"
   ]
  },
  {
   "cell_type": "code",
   "execution_count": 74,
   "metadata": {},
   "outputs": [
    {
     "data": {
      "text/plain": [
       "'<!DOCTYPE html>\\n<html data-adblockkey=\"MFwwDQYJKoZIhvcNAQEBBQADSwAwSAJBALquDFETXRn0Hr05fUP7EJT77xYnPmRbpMy4vk8KYiHnkNpednjOANJcaXDXcKQJN0nXKZJL7TciJD8AoHXK158CAwEAAQ==_XW1vxOJMuBFLYOpXeUoppK3TrX7tmrcUe57CoZ9OoJOvWm72y+X99MsPXTbaJaTNsfX34v1LuRR2qOE7ykaddw==\" xmlns=\"http://www.w3.org/1999/xhtml\" xml:lang=\"en\" lang=\"en\">\\n<head>\\n\\t<meta http-equiv=\"Content-Type\" content=\"text/html; charset=utf-8\"/>\\n     <meta name=\"viewport\" content=\"width=device-width, initial-scale=1, shrink-to-fit=no\" />\\n    <title>opelhaendler.de</title>\\n\\t<script src=\"//www.google.com/adsense/domains/caf.js\" type=\"text/javascript\" ></script>\\n\\t<link href=\"//d1lxhc4jvstzrp.cloudfront.net/themes/assets/style.css\" rel=\"stylesheet\" type=\"text/css\" media=\"screen\" />\\n\\t<link href=\"//d1lxhc4jvstzrp.cloudfront.net/themes/cleanPeppermint_7a82f1f3/style.css\" rel=\"stylesheet\" type=\"text/css\" media=\"screen\" />\\n\\t<link href=\"https://fonts.googleapis.com/css?family=Poppins:300\" rel=\"stylesheet\">\\n\\t<meta name=\"description \" content=\"\" />\\n\\t</head>\\n\\n<body id=\"afd\" style=\"visibility:hidden\">\\n\\n\\n\\n<div class=\"wrapper1\">\\n\\t    <div class=\"wrapper2\">\\n        <div class=\"wrapper3\">\\n                        <div class=\"header\" id=\"domainname\">\\n                <h1>opelhaendler.de</h1>\\n            </div>\\n            \\n            <div class=\"tcHolder\">\\n            \\t<div id=\"tc\"></div>\\n\\t\\t\\t\\t\\t\\t\\t\\t<div class=\"searchHolder\">\\n\\t\\t\\t\\t\\t<div id=\"search\"></div>\\n\\t\\t\\t\\t</div>\\n\\t\\t\\t\\t            </div>\\n        </div>\\n    </div>\\n\\t<div class=\"footer\">\\n\\t\\t<script type=\"text/javascript\">\\n\\n    function showImprint(){\\n\\n        var imprintwnd = window.open(\\'\\',\\'pcrew_imprint\\',\\'width=640,height=480,left=200,top=200,menubar=no,status=yes,toolbar=no\\');\\n        imprintwnd.document.writeln(\"test\");\\n        imprintwnd.document.close();\\n    }\\n\\n    function showPolicy(){\\n        var link = \\'www.parkingcrew.net\\';\\n        policywnd = window.open(\\n                \\'http://\\' + link + \\'/privacy.html\\',\\'pcrew_policy\\',\\'width=890,height=330,left=200,top=200,menubar=no,status=yes,toolbar=no\\');\\n        policywnd.focus();\\n    }\\n\\n    function showAboutUs(){\\n        var link = \\'http://\\'+document.location.host+\\'/aboutus.php?domain=opelhaendler.de\\';\\n        policywnd = window.open(link,\\'pcrew_policy\\',\\'width=890,height=330,left=200,top=200,menubar=no,status=yes,toolbar=no\\');\\n        policywnd.focus();\\n    }\\n\\n</script>\\n<a href=\"javascript:void(0);\" onClick=\"showImprint();\">Imprint</a> | 2020 Copyright.  All Rights Reserved. <br/><br/>\\nThe Sponsored Listings displayed above are served automatically by a third party. Neither the service provider nor the domain owner maintain any relationship with the advertisers. In case of trademark issues please contact the domain owner directly (contact information can be found in whois).\\n\\n<br/><br/>\\n<a href=\"javascript:void(0);\" onClick=\"showPolicy();\">Privacy Policy</a>\\n<br/><br/>\\n<br/><br/>\\n\\t</div>\\n</div>\\n\\n<script type=\"text/javascript\" language=\"JavaScript\">\\nvar tcblock = {\\n    // Required and steady\\n\\t\\'container\\' : \\'tc\\',\\n\\t\\'type\\' : \\'relatedsearch\\',\\n\\t\\'colorBackground\\' : \\'transparent\\',\\n    \\n    \\'number\\' : 5,\\n    \\n\\t// Font-Sizes and Line-Heights\\n\\t\\'fontSizeAttribution\\' : 14,\\n\\t\\'fontSizeTitle\\' : 24,\\n\\t\\'lineHeightTitle\\' : 34,\\n\\t// Colors\\n\\t\\'colorAttribution\\' : \\'#aaa\\',\\n\\t\\'colorTitleLink\\' : \\'#0277bd\\',\\n\\t// Alphabetically\\n    \\'horizontalAlignment\\' : \\'center\\',\\n\\t\\'noTitleUnderline\\': false,\\n\\t\\'rolloverLinkColor\\' : \\'#01579b\\',\\n\\t\\'verticalSpacing\\' : 10,\\n\\t\\'webFontFamily\\' : \\'Poppins\\'\\n};\\nvar searchboxBlock = {\\n\\t\\'container\\' : \\'search\\',\\n\\t\\'type\\' : \\'searchbox\\',\\n\\t\\'fontSizeSearchInput\\' : 12,\\n\\t\\'hideSearchInputBorder\\' : false,\\n\\t\\'hideSearchButtonBorder\\' : true,\\n\\t\\'fontSizeSearchButton\\' : 13,\\n\\t\\'colorBackground\\' : \\'transparent\\',\\n\\t\\'colorSearchButton\\' : \\'#848484\\',\\n\\t\\'colorSearchButtonText\\' : \\'#fff\\',\\n\\t\\'webFontFamily\\' : \\'Poppins\\'\\n};\\n</script>\\n<script type=\\'text/javascript\\' language=\\'JavaScript\\'>\\n            var isAdult=false;\\n            var xbase=\\'\\';\\n            var xt_auto_load=0;\\n            var ads=\\'\\',pop_cats=\\'\\';\\n            var rxid=\\'\\';\\n            var pcrewAdloaded=[];\\n            var uniqueTrackingID=\\'MTYwNDgyMTQyMC41OTk1OjE0NDhlMzU3YzFkMTQxMTdlMTBiOWRiMWQzY2VhYTQxZGQ4ZWFiYWJiODJlYTdmMjhkMGY3ZjM4NjU2ZGFiOTY6NWZhN2ExYWM5MjViNw==\\';\\n            var search=\\'\\';\\n            var is_afs=false;\\n            var country=\\'in\\';\\n            var themedata=\\'fENsZWFuUGVwcGVybWludEJsYWNrfHw1Y2U4NHxidWNrZXQwMTF8fHx8fHw1ZmE3YTFhYzkwZTY5fHx8MTYwNDgyMTQyMC42MDI5fDU5OGUwZDNiYWUyOTNlZTYwM2Y2YTA2Nzg1MjFlNzU0NzU2NWU0MjZ8fHx8fDF8fHwwfHx8fDF8fHx8fDB8MHx8fHx8fHx8fHwwfDF8fDB8MHwxfDB8MHxXMTA9fHwxfFcxMD18ZjIwMGU2MTZmY2QzYmE3MDhlMzU0YmE5ZmI3OGJmZTkxMmJkNmI3MA==\\';\\n            var domain=\\'opelhaendler.de\\';\\n            var scriptPath=\\'\\';\\n            var adtest=\\'off\\';\\n            var useFallbackTerms=false;\\n        </script><script type=\"text/javascript\" language=\"JavaScript\">if (top.location!=location){top.location.href=location.protocol + \"//\" + location.host + location.pathname + (location.search ? location.search + \"&\" : \"?\") + \"_xafvr=NDdkZTVkNmQ4MGI5ZGI2ZTM2YjMwNWFmNjI5YjI1NzRlNzIzNjk5Yyw1ZmE3YTFhYzkzMzFk\";}</script><script>if (!window.JSON) { document.write(\"<script src=\\'//d1lxhc4jvstzrp.cloudfront.net/scripts/json3.min.js\\' type=\\'text/javascript\\' language=\\'JavaScript\\'><\\\\/scr\"+\"ipt>\"); }</script>\\n<script src=\\'//d1lxhc4jvstzrp.cloudfront.net/scripts/js3caf.js\\' type=\\'text/javascript\\' language=\\'JavaScript\\'></script>\\n<script type=\\'text/javascript\\' language=\\'JavaScript\\'>x(pageOptions,{resultsPageBaseUrl: \\'http://www.opelhaendler.de/?ts=fENsZWFuUGVwcGVybWludEJsYWNrfHw1Y2U4NHxidWNrZXQwMTF8fHx8fHw1ZmE3YTFhYzkwZTY5fHx8MTYwNDgyMTQyMC42MDQzfDM1MmRiNjMwYjIwMzQ3NTdjMThmMDU3MzA5OWQ1MGEwOTI0ZDVhNzJ8fHx8fDF8fHwwfHx8fDF8fHx8fDB8MHx8fHx8fHx8fHwwfDF8fDB8MHwxfDB8MHxXMTA9fHwxfFcxMD18ZjIwMGU2MTZmY2QzYmE3MDhlMzU0YmE5ZmI3OGJmZTkxMmJkNmI3MA%3D%3D\\', hl: \\'en\\', kw: \\'\\', terms: \\'\\', uiOptimize: true,  channel: \\'000001,bucket011\\', pubId: \\'dp-teaminternet09_3ph\\', adtest: \\'off\\', personalizedAds: false, clicktrackUrl: \\'https://parking-crew.com/track.\\' + \\'php?click=caf\\' + \\'&domain=opelhaendler.de&rxid=&uid=MTYwNDgyMTQyMC41OTk1OjE0NDhlMzU3YzFkMTQxMTdlMTBiOWRiMWQzY2VhYTQxZGQ4ZWFiYWJiODJlYTdmMjhkMGY3ZjM4NjU2ZGFiOTY6NWZhN2ExYWM5MjViNw%3D%3D&ts=fENsZWFuUGVwcGVybWludEJsYWNrfHw1Y2U4NHxidWNrZXQwMTF8fHx8fHw1ZmE3YTFhYzkwZTY5fHx8MTYwNDgyMTQyMC42MDQyfGE3OTQyMWViOGE0NDk3NGQyZDU3ZThmMmI2MTkzOTcxOGVlM2Q4OWR8fHx8fDF8fHwwfHx8fDF8fHx8fDB8MHx8fHx8fHx8fHwwfDF8fDB8MHwxfDB8MHxXMTA9fHwxfFcxMD18ZjIwMGU2MTZmY2QzYmE3MDhlMzU0YmE5ZmI3OGJmZTkxMmJkNmI3MA%3D%3D&adtest=off\\'});</script><script type=\\'text/javascript\\' language=\\'JavaScript\\'>x(pageOptions,[]);</script><script type=\\'text/javascript\\' language=\\'JavaScript\\'>x(pageOptions,{domainRegistrant:\\'as-drid-2721629575551448\\'});</script><script type=\"text/javascript\">function loadFeed(){    var c = google.ads.domains.Caf;    var a = Array.prototype.slice.call(arguments);    switch (a.length) {      case 1: return new c(a[0]);      case 2: return new c(a[0], a[1]);      case 3: return new c(a[0], a[1], a[2]);      case 4: return new c(a[0], a[1], a[2], a[3]);      case 5: return new c(a[0], a[1], a[2], a[3], a[4]);    }    return c.apply(null, a);}</script><script type=\"text/javascript\" language=\"JavaScript\">function relatedCallback(options){return false;} function relatedFallback(callback){return callback();}</script><script type=\\'text/javascript\\' language=\\'JavaScript\\'>if(typeof x == \\'undefined\\' || typeof pageOptions == \\'undefined\\') { var links = document.head.getElementsByTagName(\\'link\\'); for(var i = 0; i < links.length; i++) { links[i].href = links[i].href.replace(\\'//d1lxhc4jvstzrp.cloudfront.net\\', \\'http://parkingcrew.net/assets\\'); } document.body.style.visibility = \\'visible\\'; document.getElementById(\\'searchHolder\\').style.visibility = \\'hidden\\'; }</script>\\n<script type=\"text/javascript\">var ls = function(xhr, path, payload) { \\n    xhr.open(\"POST\", path + \\'/ls.p\\' + \\'hp\\', true);\\n    xhr.setRequestHeader(\"Content-Type\", \"application/x-www-form-urlencoded; charset=UTF-8\");\\n    xhr.send(\\'_=\\' + payload);\\n};\\nls(new XMLHttpRequest(), scriptPath, \\'2013|||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\\');</script>\\n<script type=\"text/javascript\" language=\"JavaScript\">x(pageOptions);new loadFeed(pageOptions, tcblock, searchboxBlock);</script>\\n\\n</body>\\n</html>\\n'"
      ]
     },
     "execution_count": 74,
     "metadata": {},
     "output_type": "execute_result"
    }
   ],
   "source": [
    "response.text"
   ]
  },
  {
   "cell_type": "code",
   "execution_count": null,
   "metadata": {},
   "outputs": [],
   "source": []
  }
 ],
 "metadata": {
  "kernelspec": {
   "display_name": "Python 3",
   "language": "python",
   "name": "python3"
  },
  "language_info": {
   "codemirror_mode": {
    "name": "ipython",
    "version": 3
   },
   "file_extension": ".py",
   "mimetype": "text/x-python",
   "name": "python",
   "nbconvert_exporter": "python",
   "pygments_lexer": "ipython3",
   "version": "3.8.3"
  }
 },
 "nbformat": 4,
 "nbformat_minor": 4
}
